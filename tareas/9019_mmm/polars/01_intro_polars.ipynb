{
 "cells": [
  {
   "cell_type": "markdown",
   "metadata": {},
   "source": [
    "<a target=\"_blank\" href=\"https://colab.research.google.com/github/sonder-art/fdd_o23/blob/main/codigo/polars/02_sintaxis_polars.ipynb\">\n",
    "  <img src=\"https://colab.research.google.com/assets/colab-badge.svg\" alt=\"Open In Colab\"/>\n",
    "</a>"
   ]
  },
  {
   "cell_type": "code",
   "execution_count": 2,
   "metadata": {},
   "outputs": [],
   "source": [
    "#! pip install polars -U"
   ]
  },
  {
   "cell_type": "markdown",
   "metadata": {},
   "source": [
    "# Lazy & Collect"
   ]
  },
  {
   "cell_type": "code",
   "execution_count": 3,
   "metadata": {},
   "outputs": [],
   "source": [
    "import polars as pl"
   ]
  },
  {
   "cell_type": "markdown",
   "metadata": {},
   "source": [
    "Creemos un dataframe que se conporte a nivel `sintaxis` como `lazy` aunque realmente las operaciones de creacion ya han sido ejecutadas.  \n",
    "En estricto sentido peudes leer los datos como `lazy` desde el disco, pero para entender como funciona haremos un mock."
   ]
  },
  {
   "cell_type": "code",
   "execution_count": 4,
   "metadata": {},
   "outputs": [],
   "source": [
    "# Crear un DataFrame con evaluación perezosa\n",
    "lazy_df = pl.DataFrame({\n",
    "    \"nombre\": [\"Ana\", \"Luis\", \"Marta\"],\n",
    "    \"edad\": [25, 32, 18],\n",
    "    \"ciudad\": [\"Madrid\", \"Barcelona\", \"Sevilla\"]\n",
    "}).lazy()\n"
   ]
  },
  {
   "cell_type": "code",
   "execution_count": 7,
   "metadata": {},
   "outputs": [],
   "source": [
    "# Seleccionar solo la columna 'nombre'\n",
    "seleccion = lazy_df.select(\"nombre\")\n"
   ]
  },
  {
   "cell_type": "code",
   "execution_count": 8,
   "metadata": {},
   "outputs": [
    {
     "name": "stdout",
     "output_type": "stream",
     "text": [
      "naive plan: (run LazyFrame.explain(optimized=True) to see the optimized plan)\n",
      "\n",
      "DF [\"nombre\", \"edad\", \"ciudad\"]; PROJECT */3 COLUMNS; SELECTION: \"None\"\n"
     ]
    }
   ],
   "source": [
    "print(lazy_df)"
   ]
  },
  {
   "cell_type": "markdown",
   "metadata": {},
   "source": [
    "Que esta haciendo el `select`?"
   ]
  },
  {
   "cell_type": "code",
   "execution_count": 12,
   "metadata": {},
   "outputs": [
    {
     "data": {
      "text/html": [
       "<i>naive plan: (run <b>LazyFrame.explain(optimized=True)</b> to see the optimized plan)</i>\n",
       "    <p></p>\n",
       "    <div> SELECT [col(\"edad\")] FROM<p></p>  DF [\"nombre\", \"edad\", \"ciudad\"]; PROJECT */3 COLUMNS; SELECTION: \"None\"</div>"
      ],
      "text/plain": [
       "<LazyFrame [1 col, {\"edad\": Int64}] at 0x121ACF8D0>"
      ]
     },
     "execution_count": 12,
     "metadata": {},
     "output_type": "execute_result"
    }
   ],
   "source": [
    "seleccion=lazy_df.select('edad')\n",
    "seleccion"
   ]
  },
  {
   "cell_type": "markdown",
   "metadata": {},
   "source": [
    "`collect` ejectuta todas las operaciones lazy que no han sido ejecutadas hasta es momento. Digamos que es un comando que indica a `polars` que es momento de ejecutar."
   ]
  },
  {
   "cell_type": "code",
   "execution_count": 16,
   "metadata": {},
   "outputs": [
    {
     "data": {
      "text/plain": [
       "'DF [\"nombre\", \"edad\", \"ciudad\"]; PROJECT */3 COLUMNS; SELECTION: \"None\"'"
      ]
     },
     "execution_count": 16,
     "metadata": {},
     "output_type": "execute_result"
    }
   ],
   "source": [
    "lazy_df.explain(optimized=True)"
   ]
  },
  {
   "cell_type": "code",
   "execution_count": 17,
   "metadata": {},
   "outputs": [
    {
     "name": "stdout",
     "output_type": "stream",
     "text": [
      "shape: (3, 1)\n",
      "┌──────┐\n",
      "│ edad │\n",
      "│ ---  │\n",
      "│ i64  │\n",
      "╞══════╡\n",
      "│ 25   │\n",
      "│ 32   │\n",
      "│ 18   │\n",
      "└──────┘\n"
     ]
    }
   ],
   "source": [
    "# Ejecutar y mostrar los resultados\n",
    "print(seleccion.collect())"
   ]
  },
  {
   "cell_type": "markdown",
   "metadata": {},
   "source": [
    "# Filtrado y Operaciones Columna"
   ]
  },
  {
   "cell_type": "code",
   "execution_count": 21,
   "metadata": {},
   "outputs": [],
   "source": [
    "# Filtrar el DataFrame donde la edad es mayor a 20\n",
    "filtrado = lazy_df.filter(pl.col(\"edad\") > 20)"
   ]
  },
  {
   "cell_type": "markdown",
   "metadata": {},
   "source": [
    "Que esta haciendo `filter`?  \n",
    "Que esta haciendo `pl.col`?"
   ]
  },
  {
   "cell_type": "code",
   "execution_count": 22,
   "metadata": {},
   "outputs": [
    {
     "name": "stderr",
     "output_type": "stream",
     "text": [
      "/var/folders/_m/zrywqjcn66j88_lz9f9pm4gc0000gn/T/ipykernel_51465/4089663324.py:2: DeprecationWarning: `lengths` is deprecated. It has been renamed to `len_bytes`.\n",
      "  nueva_columna = filtrado.with_columns(pl.col(\"nombre\").str.lengths().alias(\"longitud_nombre\"))\n"
     ]
    }
   ],
   "source": [
    "# Crear una nueva columna que sea la longitud del nombre\n",
    "nueva_columna = filtrado.with_columns(pl.col(\"nombre\").str.lengths().alias(\"longitud_nombre\"))"
   ]
  },
  {
   "cell_type": "markdown",
   "metadata": {},
   "source": [
    "Que esta haciendo `with_columns`?  \n",
    "Por que aparece un `pl.col`?"
   ]
  },
  {
   "cell_type": "code",
   "execution_count": 26,
   "metadata": {},
   "outputs": [
    {
     "data": {
      "text/plain": [
       "<bound method LazyFrame.show_graph of <LazyFrame [4 cols, {\"nombre\": String … \"longitud_nombre\": UInt32}] at 0x1220E3A50>>"
      ]
     },
     "execution_count": 26,
     "metadata": {},
     "output_type": "execute_result"
    }
   ],
   "source": [
    "nueva_columna.show_graph"
   ]
  },
  {
   "cell_type": "code",
   "execution_count": 23,
   "metadata": {},
   "outputs": [
    {
     "name": "stdout",
     "output_type": "stream",
     "text": [
      "shape: (2, 4)\n",
      "┌────────┬──────┬───────────┬─────────────────┐\n",
      "│ nombre ┆ edad ┆ ciudad    ┆ longitud_nombre │\n",
      "│ ---    ┆ ---  ┆ ---       ┆ ---             │\n",
      "│ str    ┆ i64  ┆ str       ┆ u32             │\n",
      "╞════════╪══════╪═══════════╪═════════════════╡\n",
      "│ Ana    ┆ 25   ┆ Madrid    ┆ 3               │\n",
      "│ Luis   ┆ 32   ┆ Barcelona ┆ 4               │\n",
      "└────────┴──────┴───────────┴─────────────────┘\n"
     ]
    }
   ],
   "source": [
    "# Ejecutar y mostrar los resultados\n",
    "print(nueva_columna.collect())"
   ]
  },
  {
   "cell_type": "markdown",
   "metadata": {},
   "source": [
    "$$\n",
    "\n",
    "$$"
   ]
  },
  {
   "cell_type": "markdown",
   "metadata": {},
   "source": [
    "# Operaciones de agregacion"
   ]
  },
  {
   "cell_type": "code",
   "execution_count": 37,
   "metadata": {},
   "outputs": [],
   "source": [
    "# Agrupar por 'ciudad' y calcular la edad promedio\n",
    "agregacion = lazy_df.group_by(\"ciudad\").agg([\n",
    "    pl.col(\"edad\").mean().alias(\"edad_promedio\")\n",
    "])\n"
   ]
  },
  {
   "cell_type": "markdown",
   "metadata": {},
   "source": [
    "Que esta haciendo el `agg` en el `groupby`?  \n",
    "Que esta haciendo el `alias`?"
   ]
  },
  {
   "cell_type": "code",
   "execution_count": 38,
   "metadata": {},
   "outputs": [
    {
     "name": "stdout",
     "output_type": "stream",
     "text": [
      "shape: (3, 2)\n",
      "┌───────────┬───────────────┐\n",
      "│ ciudad    ┆ edad_promedio │\n",
      "│ ---       ┆ ---           │\n",
      "│ str       ┆ f64           │\n",
      "╞═══════════╪═══════════════╡\n",
      "│ Sevilla   ┆ 18.0          │\n",
      "│ Barcelona ┆ 32.0          │\n",
      "│ Madrid    ┆ 25.0          │\n",
      "└───────────┴───────────────┘\n"
     ]
    }
   ],
   "source": [
    "# Ejecutar y mostrar los resultados\n",
    "print(agregacion.collect())"
   ]
  },
  {
   "cell_type": "markdown",
   "metadata": {},
   "source": [
    "# Combinar Operaciones"
   ]
  },
  {
   "cell_type": "code",
   "execution_count": 39,
   "metadata": {},
   "outputs": [
    {
     "name": "stderr",
     "output_type": "stream",
     "text": [
      "/var/folders/_m/zrywqjcn66j88_lz9f9pm4gc0000gn/T/ipykernel_51465/945101761.py:2: DeprecationWarning: `groupby` is deprecated. It has been renamed to `group_by`.\n",
      "  combinado = lazy_df.filter(pl.col(\"edad\") > 20).groupby(\"ciudad\").agg([\n"
     ]
    }
   ],
   "source": [
    "# Combinar filtrado, agregación y selección de columnas\n",
    "combinado = lazy_df.filter(pl.col(\"edad\") > 20).groupby(\"ciudad\").agg([\n",
    "    pl.col(\"edad\").mean().alias(\"edad_promedio\")\n",
    "]).select([\"ciudad\", \"edad_promedio\"])\n"
   ]
  },
  {
   "cell_type": "code",
   "execution_count": 40,
   "metadata": {},
   "outputs": [
    {
     "name": "stdout",
     "output_type": "stream",
     "text": [
      "shape: (2, 2)\n",
      "┌───────────┬───────────────┐\n",
      "│ ciudad    ┆ edad_promedio │\n",
      "│ ---       ┆ ---           │\n",
      "│ str       ┆ f64           │\n",
      "╞═══════════╪═══════════════╡\n",
      "│ Madrid    ┆ 25.0          │\n",
      "│ Barcelona ┆ 32.0          │\n",
      "└───────────┴───────────────┘\n"
     ]
    }
   ],
   "source": [
    "# Ejecutar y mostrar los resultados\n",
    "print(combinado.collect())\n"
   ]
  },
  {
   "cell_type": "code",
   "execution_count": 41,
   "metadata": {},
   "outputs": [
    {
     "data": {
      "text/html": [
       "<div><style>\n",
       ".dataframe > thead > tr,\n",
       ".dataframe > tbody > tr {\n",
       "  text-align: right;\n",
       "  white-space: pre-wrap;\n",
       "}\n",
       "</style>\n",
       "<small>shape: (3, 3)</small><table border=\"1\" class=\"dataframe\"><thead><tr><th>ciudad</th><th>edad</th><th>nombre</th></tr><tr><td>str</td><td>list[i64]</td><td>list[str]</td></tr></thead><tbody><tr><td>&quot;Sevilla&quot;</td><td>[18]</td><td>[&quot;Marta&quot;]</td></tr><tr><td>&quot;Madrid&quot;</td><td>[25]</td><td>[&quot;Ana&quot;]</td></tr><tr><td>&quot;Barcelona&quot;</td><td>[32]</td><td>[&quot;Luis&quot;]</td></tr></tbody></table></div>"
      ],
      "text/plain": [
       "shape: (3, 3)\n",
       "┌───────────┬───────────┬───────────┐\n",
       "│ ciudad    ┆ edad      ┆ nombre    │\n",
       "│ ---       ┆ ---       ┆ ---       │\n",
       "│ str       ┆ list[i64] ┆ list[str] │\n",
       "╞═══════════╪═══════════╪═══════════╡\n",
       "│ Sevilla   ┆ [18]      ┆ [\"Marta\"] │\n",
       "│ Madrid    ┆ [25]      ┆ [\"Ana\"]   │\n",
       "│ Barcelona ┆ [32]      ┆ [\"Luis\"]  │\n",
       "└───────────┴───────────┴───────────┘"
      ]
     },
     "execution_count": 41,
     "metadata": {},
     "output_type": "execute_result"
    }
   ],
   "source": [
    "lazy_df.group_by('ciudad').agg(pl.col('edad'), pl.col('nombre')).collect()"
   ]
  }
 ],
 "metadata": {
  "kernelspec": {
   "display_name": "Python 3",
   "language": "python",
   "name": "python3"
  },
  "language_info": {
   "codemirror_mode": {
    "name": "ipython",
    "version": 3
   },
   "file_extension": ".py",
   "mimetype": "text/x-python",
   "name": "python",
   "nbconvert_exporter": "python",
   "pygments_lexer": "ipython3",
   "version": "3.11.5"
  }
 },
 "nbformat": 4,
 "nbformat_minor": 2
}
