{
 "cells": [
  {
   "cell_type": "code",
   "execution_count": 3,
   "metadata": {},
   "outputs": [],
   "source": [
    "import polars as pl\n",
    "import numpy as np\n",
    "import random\n",
    "from datetime import datetime, timedelta"
   ]
  },
  {
   "cell_type": "markdown",
   "metadata": {},
   "source": [
    "# Descripcion"
   ]
  },
  {
   "cell_type": "markdown",
   "metadata": {},
   "source": [
    "Los datos son notificaciones de dispositivos GPS en Mexico. En promedio generan notificaciones automatizadas cada 5 minutos si el carro esta encendido, y 30 si esta apagado.  \n",
    "\n",
    "Cada notificacion esta acompannada de un evento de lo que esta ocurriendo, y trae la latitud y longitud.  \n",
    "\n",
    "El objetico es predecir si un vehiculo esta siendo robado de acuerdo a sus notificaciones, por lo que el primer paso seria limpiar datos y hacer ingenieria de variables.\n",
    "\n",
    "Trata de hacerlo **lazy** si puedes."
   ]
  },
  {
   "cell_type": "code",
   "execution_count": 4,
   "metadata": {},
   "outputs": [],
   "source": [
    "def generate_dummy_data(num_cars, start_time, end_time, working_hours_interval, non_working_hours_interval):\n",
    "    data = []\n",
    "\n",
    "    # Define the latitude and longitude ranges for Mexico\n",
    "    min_latitude, max_latitude = 14.5388, 32.7186\n",
    "    min_longitude, max_longitude = -118.4662, -86.7104\n",
    "\n",
    "    for car_id in range(num_cars):\n",
    "        current_time = start_time\n",
    "\n",
    "        # Generate random initial latitude and longitude for each car\n",
    "        latitude = random.uniform(min_latitude, max_latitude)\n",
    "        longitude = random.uniform(min_longitude, max_longitude)\n",
    "\n",
    "        while current_time < end_time:\n",
    "            if current_time.weekday() < 5 and 9 <= current_time.hour < 17:\n",
    "                # Working hours (Monday to Friday, 9 AM to 5 PM)\n",
    "                interval = working_hours_interval\n",
    "            else:\n",
    "                # Non-working hours\n",
    "                interval = non_working_hours_interval\n",
    "\n",
    "            # Generate notification with 99% probability\n",
    "            if random.random() < 0.99:\n",
    "                notification = random.choice([\"low_fuel\", \"tire_pressure\", \"engine_check\", None])\n",
    "                data.append((f\"car_{car_id}\", current_time.isoformat(), latitude, longitude, notification))\n",
    "\n",
    "            # Generate additional notifications between intervals\n",
    "            while True:\n",
    "                additional_interval = random.expovariate(1 / (interval / 2))\n",
    "                additional_time = current_time + timedelta(minutes=additional_interval)\n",
    "                if additional_time >= current_time + timedelta(minutes=interval):\n",
    "                    break\n",
    "                notification = random.choice([\"low_fuel\", \"tire_pressure\", \"engine_check\", None])\n",
    "                data.append((f\"car_{car_id}\", additional_time.isoformat(), latitude, longitude, notification))\n",
    "\n",
    "            # Update latitude and longitude for car movement\n",
    "            latitude += random.uniform(-0.01, 0.01)\n",
    "            longitude += random.uniform(-0.01, 0.01)\n",
    "\n",
    "            # Check if the car is among the 1% that can have 100 notifications within 5 minutes\n",
    "            if random.random() < 0.01:\n",
    "                burst_start_time = current_time + timedelta(minutes=random.uniform(0, interval))\n",
    "                burst_end_time = burst_start_time + timedelta(minutes=5)\n",
    "                while current_time < burst_end_time:\n",
    "                    notification = random.choice([\"low_fuel\", \"tire_pressure\", \"engine_check\", None])\n",
    "                    data.append((f\"car_{car_id}\", current_time.isoformat(), latitude, longitude, notification))\n",
    "                    current_time += timedelta(seconds=random.uniform(1, 10))\n",
    "\n",
    "            current_time += timedelta(minutes=interval)\n",
    "\n",
    "    # Create a Polars DataFrame from the generated data\n",
    "    df = pl.DataFrame(\n",
    "        {\n",
    "            \"car_id\": [record[0] for record in data],\n",
    "            \"timestamp\": [record[1] for record in data],\n",
    "            \"latitude\": [record[2] for record in data],\n",
    "            \"longitude\": [record[3] for record in data],\n",
    "            \"notification\": [record[4] for record in data],\n",
    "        }\n",
    "    )\n",
    "\n",
    "    return df.lazy()"
   ]
  },
  {
   "cell_type": "code",
   "execution_count": 5,
   "metadata": {},
   "outputs": [
    {
     "name": "stdout",
     "output_type": "stream",
     "text": [
      "shape: (6_295_485, 5)\n",
      "┌─────────┬────────────────────────────┬───────────┬────────────┬───────────────┐\n",
      "│ car_id  ┆ timestamp                  ┆ latitude  ┆ longitude  ┆ notification  │\n",
      "│ ---     ┆ ---                        ┆ ---       ┆ ---        ┆ ---           │\n",
      "│ str     ┆ str                        ┆ f64       ┆ f64        ┆ str           │\n",
      "╞═════════╪════════════════════════════╪═══════════╪════════════╪═══════════════╡\n",
      "│ car_0   ┆ 2023-01-01T00:00:00        ┆ 14.923235 ┆ -91.944135 ┆ tire_pressure │\n",
      "│ car_0   ┆ 2023-01-01T00:09:28.307385 ┆ 14.923235 ┆ -91.944135 ┆ low_fuel      │\n",
      "│ car_0   ┆ 2023-01-01T00:14:30.838052 ┆ 14.923235 ┆ -91.944135 ┆ null          │\n",
      "│ car_0   ┆ 2023-01-01T00:03:45.643750 ┆ 14.923235 ┆ -91.944135 ┆ null          │\n",
      "│ car_0   ┆ 2023-01-01T00:15:51.894385 ┆ 14.923235 ┆ -91.944135 ┆ engine_check  │\n",
      "│ …       ┆ …                          ┆ …         ┆ …          ┆ …             │\n",
      "│ car_999 ┆ 2023-01-07T23:41:33.962486 ┆ 25.970778 ┆ -113.66969 ┆ null          │\n",
      "│ car_999 ┆ 2023-01-07T23:54:57.626993 ┆ 25.970778 ┆ -113.66969 ┆ low_fuel      │\n",
      "│ car_999 ┆ 2023-01-07T23:43:47.266102 ┆ 25.970778 ┆ -113.66969 ┆ tire_pressure │\n",
      "│ car_999 ┆ 2023-01-07T23:47:15.930927 ┆ 25.970778 ┆ -113.66969 ┆ engine_check  │\n",
      "│ car_999 ┆ 2023-01-07T23:40:14.721930 ┆ 25.970778 ┆ -113.66969 ┆ tire_pressure │\n",
      "└─────────┴────────────────────────────┴───────────┴────────────┴───────────────┘\n"
     ]
    }
   ],
   "source": [
    "num_cars = 1000\n",
    "start_time = datetime(2023, 1, 1, 0, 0, 0)  # Start of the week\n",
    "end_time = start_time + timedelta(weeks=1)  # End of the week\n",
    "working_hours_interval = 5  # Interval of 5 minutes during working hours\n",
    "non_working_hours_interval = 30  # Interval of 30 minutes during non-working hours\n",
    "\n",
    "# Generate the dummy data\n",
    "data = generate_dummy_data(num_cars, start_time, end_time, working_hours_interval, non_working_hours_interval)\n",
    "\n",
    "# Print the first few rows of the generated data\n",
    "print(data.collect())"
   ]
  },
  {
   "cell_type": "markdown",
   "metadata": {},
   "source": [
    "## Limpieza de datos"
   ]
  },
  {
   "cell_type": "markdown",
   "metadata": {},
   "source": [
    "### Timestamp"
   ]
  },
  {
   "cell_type": "markdown",
   "metadata": {},
   "source": [
    "Convierte el `timestamp` que actualmente es string a formato de tiempo en polars"
   ]
  },
  {
   "cell_type": "code",
   "execution_count": 6,
   "metadata": {},
   "outputs": [],
   "source": [
    "data = data.with_columns(pl.col(\"timestamp\").cast(pl.Datetime))"
   ]
  },
  {
   "cell_type": "code",
   "execution_count": 7,
   "metadata": {},
   "outputs": [
    {
     "name": "stdout",
     "output_type": "stream",
     "text": [
      "shape: (6_295_485, 5)\n",
      "┌─────────┬────────────────────────────┬───────────┬────────────┬───────────────┐\n",
      "│ car_id  ┆ timestamp                  ┆ latitude  ┆ longitude  ┆ notification  │\n",
      "│ ---     ┆ ---                        ┆ ---       ┆ ---        ┆ ---           │\n",
      "│ str     ┆ datetime[μs]               ┆ f64       ┆ f64        ┆ str           │\n",
      "╞═════════╪════════════════════════════╪═══════════╪════════════╪═══════════════╡\n",
      "│ car_0   ┆ 2023-01-01 00:00:00        ┆ 14.923235 ┆ -91.944135 ┆ tire_pressure │\n",
      "│ car_0   ┆ 2023-01-01 00:09:28.307385 ┆ 14.923235 ┆ -91.944135 ┆ low_fuel      │\n",
      "│ car_0   ┆ 2023-01-01 00:14:30.838052 ┆ 14.923235 ┆ -91.944135 ┆ null          │\n",
      "│ car_0   ┆ 2023-01-01 00:03:45.643750 ┆ 14.923235 ┆ -91.944135 ┆ null          │\n",
      "│ car_0   ┆ 2023-01-01 00:15:51.894385 ┆ 14.923235 ┆ -91.944135 ┆ engine_check  │\n",
      "│ …       ┆ …                          ┆ …         ┆ …          ┆ …             │\n",
      "│ car_999 ┆ 2023-01-07 23:41:33.962486 ┆ 25.970778 ┆ -113.66969 ┆ null          │\n",
      "│ car_999 ┆ 2023-01-07 23:54:57.626993 ┆ 25.970778 ┆ -113.66969 ┆ low_fuel      │\n",
      "│ car_999 ┆ 2023-01-07 23:43:47.266102 ┆ 25.970778 ┆ -113.66969 ┆ tire_pressure │\n",
      "│ car_999 ┆ 2023-01-07 23:47:15.930927 ┆ 25.970778 ┆ -113.66969 ┆ engine_check  │\n",
      "│ car_999 ┆ 2023-01-07 23:40:14.721930 ┆ 25.970778 ┆ -113.66969 ┆ tire_pressure │\n",
      "└─────────┴────────────────────────────┴───────────┴────────────┴───────────────┘\n"
     ]
    }
   ],
   "source": [
    "print(data.collect())"
   ]
  },
  {
   "cell_type": "markdown",
   "metadata": {},
   "source": [
    "### Ingenieria de variables"
   ]
  },
  {
   "cell_type": "markdown",
   "metadata": {},
   "source": [
    "Dado que va a entrar a un modelo de machine learning es encesario que todas las variables sean numericas, y esten en formnato tidy. Cada observacion en una fila, y cada variable en una columna. Por lo tanto se decidio crear estadisticos y agregar los datos a intervalos uniformes de `x` minutos.  \n",
    "\n",
    "Por ejemplo, colapsar toda la informacion que ocurrion en el intervalo, como el numero de notificaciones en esos 5 minutos, el promedio entre notificaciones, y el tipo de notificaciones."
   ]
  },
  {
   "cell_type": "markdown",
   "metadata": {},
   "source": [
    "Existen varias formas de hacer esto, puedes hacerlo con `group_by` primero para crear las nuevas variables, o `group_by` (`rolling`, `dynamic`) usando operaciones sobre listas. Utiliza claude o chat_gpt"
   ]
  },
  {
   "cell_type": "markdown",
   "metadata": {},
   "source": [
    "1. Crea una nueva variable que compute la diferencia de tiempo entre notificaciones del mismo vehiculo. Piensa como lo vas a hacer. Llama a esta variable `notification_time`\n",
    "   \n"
   ]
  },
  {
   "cell_type": "code",
   "execution_count": 20,
   "metadata": {},
   "outputs": [
    {
     "ename": "DuplicateError",
     "evalue": "column with name 'lagged_timestamp' has more than one occurrences\n\nError originated just after this operation:\nSORT BY [col(\"car_id\"), col(\"timestamp\")]\n  AGGREGATE\n  \t[col(\"timestamp\"), col(\"latitude\"), col(\"longitude\"), col(\"notification\"), col(\"timestamp\").shift([-1]).alias(\"lagged_timestamp\")] BY [col(\"car_id\")] FROM\n    SORT BY [col(\"car_id\"), col(\"timestamp\")]\n      SORT BY [col(\"car_id\"), col(\"timestamp\")]\n        SORT BY [col(\"car_id\"), col(\"timestamp\")]\n          SORT BY [col(\"car_id\"), col(\"timestamp\")]\n            SORT BY [col(\"car_id\"), col(\"timestamp\")]\n              SORT BY [col(\"car_id\"), col(\"timestamp\")]\n                SORT BY [col(\"car_id\"), col(\"timestamp\")]\n                   WITH_COLUMNS:\n                   [col(\"timestamp\").strict_cast(Datetime(Microseconds, None))]\n                    DF [\"car_id\", \"timestamp\", \"latitude\", \"longitude\"]; PROJECT */5 COLUMNS; SELECTION: \"None\"\n\nLogicalPlan had already failed with the above error; after failure, 4 additional operations were attempted on the LazyFrame",
     "output_type": "error",
     "traceback": [
      "\u001b[0;31m---------------------------------------------------------------------------\u001b[0m",
      "\u001b[0;31mDuplicateError\u001b[0m                            Traceback (most recent call last)",
      "Cell \u001b[0;32mIn[20], line 4\u001b[0m\n\u001b[1;32m      2\u001b[0m data\u001b[39m=\u001b[39mdata\u001b[39m.\u001b[39mgroup_by(\u001b[39m\"\u001b[39m\u001b[39mcar_id\u001b[39m\u001b[39m\"\u001b[39m, maintain_order\u001b[39m=\u001b[39m\u001b[39mTrue\u001b[39;00m)\u001b[39m.\u001b[39magg(pl\u001b[39m.\u001b[39mall(),pl\u001b[39m.\u001b[39mcol(\u001b[39m'\u001b[39m\u001b[39mtimestamp\u001b[39m\u001b[39m'\u001b[39m)\u001b[39m.\u001b[39mshift(\u001b[39m-\u001b[39m\u001b[39m1\u001b[39m)\u001b[39m.\u001b[39malias(\u001b[39m'\u001b[39m\u001b[39mlagged_timestamp\u001b[39m\u001b[39m'\u001b[39m))\n\u001b[1;32m      3\u001b[0m data\u001b[39m=\u001b[39mdata\u001b[39m.\u001b[39mwith_columns(pl\u001b[39m.\u001b[39mcol(\u001b[39m'\u001b[39m\u001b[39mlagged_timestamp\u001b[39m\u001b[39m'\u001b[39m)\u001b[39m-\u001b[39mpl\u001b[39m.\u001b[39mcol(\u001b[39m'\u001b[39m\u001b[39mtimestamp\u001b[39m\u001b[39m'\u001b[39m)\u001b[39m.\u001b[39malias(\u001b[39m'\u001b[39m\u001b[39mnotification_time\u001b[39m\u001b[39m'\u001b[39m))\n\u001b[0;32m----> 4\u001b[0m data\u001b[39m.\u001b[39mcollect()\n",
      "File \u001b[0;32m~/anaconda3/lib/python3.11/site-packages/polars/lazyframe/frame.py:1683\u001b[0m, in \u001b[0;36mLazyFrame.collect\u001b[0;34m(self, type_coercion, predicate_pushdown, projection_pushdown, simplify_expression, slice_pushdown, comm_subplan_elim, comm_subexpr_elim, no_optimization, streaming, background, _eager)\u001b[0m\n\u001b[1;32m   1680\u001b[0m \u001b[39mif\u001b[39;00m background:\n\u001b[1;32m   1681\u001b[0m     \u001b[39mreturn\u001b[39;00m InProcessQuery(ldf\u001b[39m.\u001b[39mcollect_concurrently())\n\u001b[0;32m-> 1683\u001b[0m \u001b[39mreturn\u001b[39;00m wrap_df(ldf\u001b[39m.\u001b[39mcollect())\n",
      "\u001b[0;31mDuplicateError\u001b[0m: column with name 'lagged_timestamp' has more than one occurrences\n\nError originated just after this operation:\nSORT BY [col(\"car_id\"), col(\"timestamp\")]\n  AGGREGATE\n  \t[col(\"timestamp\"), col(\"latitude\"), col(\"longitude\"), col(\"notification\"), col(\"timestamp\").shift([-1]).alias(\"lagged_timestamp\")] BY [col(\"car_id\")] FROM\n    SORT BY [col(\"car_id\"), col(\"timestamp\")]\n      SORT BY [col(\"car_id\"), col(\"timestamp\")]\n        SORT BY [col(\"car_id\"), col(\"timestamp\")]\n          SORT BY [col(\"car_id\"), col(\"timestamp\")]\n            SORT BY [col(\"car_id\"), col(\"timestamp\")]\n              SORT BY [col(\"car_id\"), col(\"timestamp\")]\n                SORT BY [col(\"car_id\"), col(\"timestamp\")]\n                   WITH_COLUMNS:\n                   [col(\"timestamp\").strict_cast(Datetime(Microseconds, None))]\n                    DF [\"car_id\", \"timestamp\", \"latitude\", \"longitude\"]; PROJECT */5 COLUMNS; SELECTION: \"None\"\n\nLogicalPlan had already failed with the above error; after failure, 4 additional operations were attempted on the LazyFrame"
     ]
    }
   ],
   "source": [
    "data=data.sort('car_id', 'timestamp')\n",
    "data=data.group_by(\"car_id\", maintain_order=True).agg(pl.all(),pl.col('timestamp').shift(-1).alias('lagged_timestamp'))\n",
    "data=data.with_columns(pl.col('lagged_timestamp')-pl.col('timestamp').alias('notification_time'))\n",
    "data.collect()"
   ]
  },
  {
   "cell_type": "markdown",
   "metadata": {},
   "source": [
    "2. Crea una nueva variable que compute la distancia que viajo el vehiculo desde la ultima notificacion. Llamala `distance`"
   ]
  },
  {
   "cell_type": "code",
   "execution_count": null,
   "metadata": {},
   "outputs": [],
   "source": []
  },
  {
   "cell_type": "markdown",
   "metadata": {},
   "source": [
    "3. Crea intervalos de `x` minutos por carro. Como el numero de notificaciones en esos intervalos no es uniforme tienes que buscar funciones de polars especificas, pero ademas tienen que ser por vehiculo, pues tienen que ser del mismo. Revisa las funciones de `group_by` `dynamic` y `rolling`.\n",
    "   1. Computa la media, mediana, varianza, max y min de `notification_time` los intervalos de `x` minutos\n",
    "   2. Computa la media, mediana, varianza, max y min de `distance`\n"
   ]
  },
  {
   "cell_type": "code",
   "execution_count": null,
   "metadata": {},
   "outputs": [],
   "source": []
  }
 ],
 "metadata": {
  "kernelspec": {
   "display_name": "itam",
   "language": "python",
   "name": "python3"
  },
  "language_info": {
   "codemirror_mode": {
    "name": "ipython",
    "version": 3
   },
   "file_extension": ".py",
   "mimetype": "text/x-python",
   "name": "python",
   "nbconvert_exporter": "python",
   "pygments_lexer": "ipython3",
   "version": "3.11.5"
  }
 },
 "nbformat": 4,
 "nbformat_minor": 2
}
