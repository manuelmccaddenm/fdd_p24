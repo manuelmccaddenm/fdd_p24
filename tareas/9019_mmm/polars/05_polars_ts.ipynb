{
 "cells": [
  {
   "cell_type": "code",
   "execution_count": 36,
   "metadata": {},
   "outputs": [],
   "source": [
    "import polars as pl\n",
    "import numpy as np\n",
    "import random as random\n",
    "from datetime import datetime, timedelta\n",
    "from math import radians, sin, cos, sqrt, asin"
   ]
  },
  {
   "cell_type": "markdown",
   "metadata": {},
   "source": [
    "# Descripcion"
   ]
  },
  {
   "cell_type": "markdown",
   "metadata": {},
   "source": [
    "Los datos son notificaciones de dispositivos GPS en Mexico. En promedio generan notificaciones automatizadas cada 5 minutos si el carro esta encendido, y 30 si esta apagado.  \n",
    "\n",
    "Cada notificacion esta acompannada de un evento de lo que esta ocurriendo, y trae la latitud y longitud.  \n",
    "\n",
    "El objetico es predecir si un vehiculo esta siendo robado de acuerdo a sus notificaciones, por lo que el primer paso seria limpiar datos y hacer ingenieria de variables.\n",
    "\n",
    "Trata de hacerlo **lazy** si puedes."
   ]
  },
  {
   "cell_type": "code",
   "execution_count": 37,
   "metadata": {},
   "outputs": [],
   "source": [
    "def generate_dummy_data(num_cars, start_time, end_time, working_hours_interval, non_working_hours_interval):\n",
    "    data = []\n",
    "\n",
    "    # Define the latitude and longitude ranges for Mexico\n",
    "    min_latitude, max_latitude = 14.5388, 32.7186\n",
    "    min_longitude, max_longitude = -118.4662, -86.7104\n",
    "\n",
    "    for car_id in range(num_cars):\n",
    "        current_time = start_time\n",
    "\n",
    "        # Generate random initial latitude and longitude for each car\n",
    "        latitude = random.uniform(min_latitude, max_latitude)\n",
    "        longitude = random.uniform(min_longitude, max_longitude)\n",
    "\n",
    "        while current_time < end_time:\n",
    "            if current_time.weekday() < 5 and 9 <= current_time.hour < 17:\n",
    "                # Working hours (Monday to Friday, 9 AM to 5 PM)\n",
    "                interval = working_hours_interval\n",
    "            else:\n",
    "                # Non-working hours\n",
    "                interval = non_working_hours_interval\n",
    "\n",
    "            # Generate notification with 99% probability\n",
    "            if random.random() < 0.99:\n",
    "                notification = random.choice([\"low_fuel\", \"tire_pressure\", \"engine_check\", None])\n",
    "                data.append((f\"car_{car_id}\", current_time.isoformat(), latitude, longitude, notification))\n",
    "\n",
    "            # Generate additional notifications between intervals\n",
    "            while True:\n",
    "                additional_interval = random.expovariate(1 / (interval / 2))\n",
    "                additional_time = current_time + timedelta(minutes=additional_interval)\n",
    "                if additional_time >= current_time + timedelta(minutes=interval):\n",
    "                    break\n",
    "                notification = random.choice([\"low_fuel\", \"tire_pressure\", \"engine_check\", None])\n",
    "                data.append((f\"car_{car_id}\", additional_time.isoformat(), latitude, longitude, notification))\n",
    "\n",
    "            # Update latitude and longitude for car movement\n",
    "            latitude += random.uniform(-0.01, 0.01)\n",
    "            longitude += random.uniform(-0.01, 0.01)\n",
    "\n",
    "            # Check if the car is among the 1% that can have 100 notifications within 5 minutes\n",
    "            if random.random() < 0.01:\n",
    "                burst_start_time = current_time + timedelta(minutes=random.uniform(0, interval))\n",
    "                burst_end_time = burst_start_time + timedelta(minutes=5)\n",
    "                while current_time < burst_end_time:\n",
    "                    notification = random.choice([\"low_fuel\", \"tire_pressure\", \"engine_check\", None])\n",
    "                    data.append((f\"car_{car_id}\", current_time.isoformat(), latitude, longitude, notification))\n",
    "                    current_time += timedelta(seconds=random.uniform(1, 10))\n",
    "\n",
    "            current_time += timedelta(minutes=interval)\n",
    "\n",
    "    # Create a Polars DataFrame from the generated data\n",
    "    df = pl.DataFrame(\n",
    "        {\n",
    "            \"car_id\": [record[0] for record in data],\n",
    "            \"timestamp\": [record[1] for record in data],\n",
    "            \"latitude\": [record[2] for record in data],\n",
    "            \"longitude\": [record[3] for record in data],\n",
    "            \"notification\": [record[4] for record in data],\n",
    "        }\n",
    "    )\n",
    "\n",
    "    return df.lazy()"
   ]
  },
  {
   "cell_type": "code",
   "execution_count": 38,
   "metadata": {},
   "outputs": [
    {
     "name": "stdout",
     "output_type": "stream",
     "text": [
      "shape: (6_283_268, 5)\n",
      "┌─────────┬────────────────────────────┬───────────┬─────────────┬───────────────┐\n",
      "│ car_id  ┆ timestamp                  ┆ latitude  ┆ longitude   ┆ notification  │\n",
      "│ ---     ┆ ---                        ┆ ---       ┆ ---         ┆ ---           │\n",
      "│ str     ┆ str                        ┆ f64       ┆ f64         ┆ str           │\n",
      "╞═════════╪════════════════════════════╪═══════════╪═════════════╪═══════════════╡\n",
      "│ car_0   ┆ 2023-01-01T00:00:00        ┆ 16.431368 ┆ -108.499227 ┆ null          │\n",
      "│ car_0   ┆ 2023-01-01T00:30:00        ┆ 16.431572 ┆ -108.497224 ┆ low_fuel      │\n",
      "│ car_0   ┆ 2023-01-01T00:34:18.487067 ┆ 16.431572 ┆ -108.497224 ┆ tire_pressure │\n",
      "│ car_0   ┆ 2023-01-01T01:00:00        ┆ 16.435203 ┆ -108.50384  ┆ null          │\n",
      "│ car_0   ┆ 2023-01-01T01:02:45.993100 ┆ 16.435203 ┆ -108.50384  ┆ null          │\n",
      "│ …       ┆ …                          ┆ …         ┆ …           ┆ …             │\n",
      "│ car_999 ┆ 2023-01-07T23:44:09.595171 ┆ 28.836285 ┆ -106.604029 ┆ null          │\n",
      "│ car_999 ┆ 2023-01-07T23:47:45.696463 ┆ 28.836285 ┆ -106.604029 ┆ null          │\n",
      "│ car_999 ┆ 2023-01-07T23:36:50.168622 ┆ 28.836285 ┆ -106.604029 ┆ engine_check  │\n",
      "│ car_999 ┆ 2023-01-07T23:34:33.332953 ┆ 28.836285 ┆ -106.604029 ┆ null          │\n",
      "│ car_999 ┆ 2023-01-07T23:49:20.924670 ┆ 28.836285 ┆ -106.604029 ┆ engine_check  │\n",
      "└─────────┴────────────────────────────┴───────────┴─────────────┴───────────────┘\n"
     ]
    }
   ],
   "source": [
    "num_cars = 1000\n",
    "start_time = datetime(2023, 1, 1, 0, 0, 0)  # Start of the week\n",
    "end_time = start_time + timedelta(weeks=1)  # End of the week\n",
    "working_hours_interval = 5  # Interval of 5 minutes during working hours\n",
    "non_working_hours_interval = 30  # Interval of 30 minutes during non-working hours\n",
    "\n",
    "# Generate the dummy data\n",
    "data = generate_dummy_data(num_cars, start_time, end_time, working_hours_interval, non_working_hours_interval)\n",
    "\n",
    "# Print the first few rows of the generated data\n",
    "print(data.collect())"
   ]
  },
  {
   "cell_type": "markdown",
   "metadata": {},
   "source": [
    "## Limpieza de datos"
   ]
  },
  {
   "cell_type": "markdown",
   "metadata": {},
   "source": [
    "### Timestamp"
   ]
  },
  {
   "cell_type": "markdown",
   "metadata": {},
   "source": [
    "Convierte el `timestamp` que actualmente es string a formato de tiempo en polars"
   ]
  },
  {
   "cell_type": "code",
   "execution_count": 39,
   "metadata": {},
   "outputs": [],
   "source": [
    "data = data.with_columns(pl.col(\"timestamp\").cast(pl.Datetime))"
   ]
  },
  {
   "cell_type": "code",
   "execution_count": 40,
   "metadata": {},
   "outputs": [
    {
     "data": {
      "text/html": [
       "<div><style>\n",
       ".dataframe > thead > tr,\n",
       ".dataframe > tbody > tr {\n",
       "  text-align: right;\n",
       "  white-space: pre-wrap;\n",
       "}\n",
       "</style>\n",
       "<small>shape: (6_283_268, 5)</small><table border=\"1\" class=\"dataframe\"><thead><tr><th>car_id</th><th>timestamp</th><th>latitude</th><th>longitude</th><th>notification</th></tr><tr><td>str</td><td>datetime[μs]</td><td>f64</td><td>f64</td><td>str</td></tr></thead><tbody><tr><td>&quot;car_0&quot;</td><td>2023-01-01 00:00:00</td><td>16.431368</td><td>-108.499227</td><td>null</td></tr><tr><td>&quot;car_0&quot;</td><td>2023-01-01 00:30:00</td><td>16.431572</td><td>-108.497224</td><td>&quot;low_fuel&quot;</td></tr><tr><td>&quot;car_0&quot;</td><td>2023-01-01 00:34:18.487067</td><td>16.431572</td><td>-108.497224</td><td>&quot;tire_pressure&quot;</td></tr><tr><td>&quot;car_0&quot;</td><td>2023-01-01 01:00:00</td><td>16.435203</td><td>-108.50384</td><td>null</td></tr><tr><td>&quot;car_0&quot;</td><td>2023-01-01 01:02:45.993100</td><td>16.435203</td><td>-108.50384</td><td>null</td></tr><tr><td>&hellip;</td><td>&hellip;</td><td>&hellip;</td><td>&hellip;</td><td>&hellip;</td></tr><tr><td>&quot;car_999&quot;</td><td>2023-01-07 23:44:09.595171</td><td>28.836285</td><td>-106.604029</td><td>null</td></tr><tr><td>&quot;car_999&quot;</td><td>2023-01-07 23:47:45.696463</td><td>28.836285</td><td>-106.604029</td><td>null</td></tr><tr><td>&quot;car_999&quot;</td><td>2023-01-07 23:36:50.168622</td><td>28.836285</td><td>-106.604029</td><td>&quot;engine_check&quot;</td></tr><tr><td>&quot;car_999&quot;</td><td>2023-01-07 23:34:33.332953</td><td>28.836285</td><td>-106.604029</td><td>null</td></tr><tr><td>&quot;car_999&quot;</td><td>2023-01-07 23:49:20.924670</td><td>28.836285</td><td>-106.604029</td><td>&quot;engine_check&quot;</td></tr></tbody></table></div>"
      ],
      "text/plain": [
       "shape: (6_283_268, 5)\n",
       "┌─────────┬────────────────────────────┬───────────┬─────────────┬───────────────┐\n",
       "│ car_id  ┆ timestamp                  ┆ latitude  ┆ longitude   ┆ notification  │\n",
       "│ ---     ┆ ---                        ┆ ---       ┆ ---         ┆ ---           │\n",
       "│ str     ┆ datetime[μs]               ┆ f64       ┆ f64         ┆ str           │\n",
       "╞═════════╪════════════════════════════╪═══════════╪═════════════╪═══════════════╡\n",
       "│ car_0   ┆ 2023-01-01 00:00:00        ┆ 16.431368 ┆ -108.499227 ┆ null          │\n",
       "│ car_0   ┆ 2023-01-01 00:30:00        ┆ 16.431572 ┆ -108.497224 ┆ low_fuel      │\n",
       "│ car_0   ┆ 2023-01-01 00:34:18.487067 ┆ 16.431572 ┆ -108.497224 ┆ tire_pressure │\n",
       "│ car_0   ┆ 2023-01-01 01:00:00        ┆ 16.435203 ┆ -108.50384  ┆ null          │\n",
       "│ car_0   ┆ 2023-01-01 01:02:45.993100 ┆ 16.435203 ┆ -108.50384  ┆ null          │\n",
       "│ …       ┆ …                          ┆ …         ┆ …           ┆ …             │\n",
       "│ car_999 ┆ 2023-01-07 23:44:09.595171 ┆ 28.836285 ┆ -106.604029 ┆ null          │\n",
       "│ car_999 ┆ 2023-01-07 23:47:45.696463 ┆ 28.836285 ┆ -106.604029 ┆ null          │\n",
       "│ car_999 ┆ 2023-01-07 23:36:50.168622 ┆ 28.836285 ┆ -106.604029 ┆ engine_check  │\n",
       "│ car_999 ┆ 2023-01-07 23:34:33.332953 ┆ 28.836285 ┆ -106.604029 ┆ null          │\n",
       "│ car_999 ┆ 2023-01-07 23:49:20.924670 ┆ 28.836285 ┆ -106.604029 ┆ engine_check  │\n",
       "└─────────┴────────────────────────────┴───────────┴─────────────┴───────────────┘"
      ]
     },
     "execution_count": 40,
     "metadata": {},
     "output_type": "execute_result"
    }
   ],
   "source": [
    "data.collect()"
   ]
  },
  {
   "cell_type": "markdown",
   "metadata": {},
   "source": [
    "### Ingenieria de variables"
   ]
  },
  {
   "cell_type": "markdown",
   "metadata": {},
   "source": [
    "Dado que va a entrar a un modelo de machine learning es encesario que todas las variables sean numericas, y esten en formnato tidy. Cada observacion en una fila, y cada variable en una columna. Por lo tanto se decidio crear estadisticos y agregar los datos a intervalos uniformes de `x` minutos.  \n",
    "\n",
    "Por ejemplo, colapsar toda la informacion que ocurrion en el intervalo, como el numero de notificaciones en esos 5 minutos, el promedio entre notificaciones, y el tipo de notificaciones."
   ]
  },
  {
   "cell_type": "markdown",
   "metadata": {},
   "source": [
    "Existen varias formas de hacer esto, puedes hacerlo con `group_by` primero para crear las nuevas variables, o `group_by` (`rolling`, `dynamic`) usando operaciones sobre listas. Utiliza claude o chat_gpt"
   ]
  },
  {
   "cell_type": "markdown",
   "metadata": {},
   "source": [
    "1. Crea una nueva variable que compute la diferencia de tiempo entre notificaciones del mismo vehiculo. Piensa como lo vas a hacer. Llama a esta variable `notification_time`\n",
    "   \n"
   ]
  },
  {
   "cell_type": "code",
   "execution_count": 41,
   "metadata": {},
   "outputs": [],
   "source": [
    "data = data.sort([\"car_id\", \"timestamp\"])\n",
    "data=data.with_columns(pl.col(\"timestamp\").shift(-1).alias(\"lagged_timestamp\"))\n",
    "data=data.with_columns((pl.col(\"lagged_timestamp\")-pl.col(\"timestamp\")).alias(\"notification_time\"))\n"
   ]
  },
  {
   "cell_type": "code",
   "execution_count": 42,
   "metadata": {},
   "outputs": [
    {
     "data": {
      "text/html": [
       "<div><style>\n",
       ".dataframe > thead > tr,\n",
       ".dataframe > tbody > tr {\n",
       "  text-align: right;\n",
       "  white-space: pre-wrap;\n",
       "}\n",
       "</style>\n",
       "<small>shape: (6_283_268, 7)</small><table border=\"1\" class=\"dataframe\"><thead><tr><th>car_id</th><th>timestamp</th><th>latitude</th><th>longitude</th><th>notification</th><th>lagged_timestamp</th><th>notification_time</th></tr><tr><td>str</td><td>datetime[μs]</td><td>f64</td><td>f64</td><td>str</td><td>datetime[μs]</td><td>duration[μs]</td></tr></thead><tbody><tr><td>&quot;car_0&quot;</td><td>2023-01-01 00:00:00</td><td>16.431368</td><td>-108.499227</td><td>null</td><td>2023-01-01 00:30:00</td><td>30m</td></tr><tr><td>&quot;car_0&quot;</td><td>2023-01-01 00:30:00</td><td>16.431572</td><td>-108.497224</td><td>&quot;low_fuel&quot;</td><td>2023-01-01 00:34:18.487067</td><td>4m 18s 487067µs</td></tr><tr><td>&quot;car_0&quot;</td><td>2023-01-01 00:34:18.487067</td><td>16.431572</td><td>-108.497224</td><td>&quot;tire_pressure&quot;</td><td>2023-01-01 01:00:00</td><td>25m 41s 512933µs</td></tr><tr><td>&quot;car_0&quot;</td><td>2023-01-01 01:00:00</td><td>16.435203</td><td>-108.50384</td><td>null</td><td>2023-01-01 01:02:45.993100</td><td>2m 45s 993100µs</td></tr><tr><td>&quot;car_0&quot;</td><td>2023-01-01 01:02:45.993100</td><td>16.435203</td><td>-108.50384</td><td>null</td><td>2023-01-01 01:30:00</td><td>27m 14s 6900µs</td></tr><tr><td>&hellip;</td><td>&hellip;</td><td>&hellip;</td><td>&hellip;</td><td>&hellip;</td><td>&hellip;</td><td>&hellip;</td></tr><tr><td>&quot;car_999&quot;</td><td>2023-01-07 23:51:41.911628</td><td>28.836285</td><td>-106.604029</td><td>&quot;engine_check&quot;</td><td>2023-01-07 23:53:10.488422</td><td>1m 28s 576794µs</td></tr><tr><td>&quot;car_999&quot;</td><td>2023-01-07 23:53:10.488422</td><td>28.836285</td><td>-106.604029</td><td>&quot;engine_check&quot;</td><td>2023-01-07 23:53:52.320353</td><td>41s 831931µs</td></tr><tr><td>&quot;car_999&quot;</td><td>2023-01-07 23:53:52.320353</td><td>28.836285</td><td>-106.604029</td><td>&quot;engine_check&quot;</td><td>2023-01-07 23:57:55.336558</td><td>4m 3s 16205µs</td></tr><tr><td>&quot;car_999&quot;</td><td>2023-01-07 23:57:55.336558</td><td>28.836285</td><td>-106.604029</td><td>&quot;low_fuel&quot;</td><td>2023-01-07 23:58:36.620036</td><td>41s 283478µs</td></tr><tr><td>&quot;car_999&quot;</td><td>2023-01-07 23:58:36.620036</td><td>28.836285</td><td>-106.604029</td><td>&quot;low_fuel&quot;</td><td>null</td><td>null</td></tr></tbody></table></div>"
      ],
      "text/plain": [
       "shape: (6_283_268, 7)\n",
       "┌─────────┬───────────────┬───────────┬─────────────┬───────────────┬───────────────┬──────────────┐\n",
       "│ car_id  ┆ timestamp     ┆ latitude  ┆ longitude   ┆ notification  ┆ lagged_timest ┆ notification │\n",
       "│ ---     ┆ ---           ┆ ---       ┆ ---         ┆ ---           ┆ amp           ┆ _time        │\n",
       "│ str     ┆ datetime[μs]  ┆ f64       ┆ f64         ┆ str           ┆ ---           ┆ ---          │\n",
       "│         ┆               ┆           ┆             ┆               ┆ datetime[μs]  ┆ duration[μs] │\n",
       "╞═════════╪═══════════════╪═══════════╪═════════════╪═══════════════╪═══════════════╪══════════════╡\n",
       "│ car_0   ┆ 2023-01-01    ┆ 16.431368 ┆ -108.499227 ┆ null          ┆ 2023-01-01    ┆ 30m          │\n",
       "│         ┆ 00:00:00      ┆           ┆             ┆               ┆ 00:30:00      ┆              │\n",
       "│ car_0   ┆ 2023-01-01    ┆ 16.431572 ┆ -108.497224 ┆ low_fuel      ┆ 2023-01-01    ┆ 4m 18s       │\n",
       "│         ┆ 00:30:00      ┆           ┆             ┆               ┆ 00:34:18.4870 ┆ 487067µs     │\n",
       "│         ┆               ┆           ┆             ┆               ┆ 67            ┆              │\n",
       "│ car_0   ┆ 2023-01-01    ┆ 16.431572 ┆ -108.497224 ┆ tire_pressure ┆ 2023-01-01    ┆ 25m 41s      │\n",
       "│         ┆ 00:34:18.4870 ┆           ┆             ┆               ┆ 01:00:00      ┆ 512933µs     │\n",
       "│         ┆ 67            ┆           ┆             ┆               ┆               ┆              │\n",
       "│ car_0   ┆ 2023-01-01    ┆ 16.435203 ┆ -108.50384  ┆ null          ┆ 2023-01-01    ┆ 2m 45s       │\n",
       "│         ┆ 01:00:00      ┆           ┆             ┆               ┆ 01:02:45.9931 ┆ 993100µs     │\n",
       "│         ┆               ┆           ┆             ┆               ┆ 00            ┆              │\n",
       "│ car_0   ┆ 2023-01-01    ┆ 16.435203 ┆ -108.50384  ┆ null          ┆ 2023-01-01    ┆ 27m 14s      │\n",
       "│         ┆ 01:02:45.9931 ┆           ┆             ┆               ┆ 01:30:00      ┆ 6900µs       │\n",
       "│         ┆ 00            ┆           ┆             ┆               ┆               ┆              │\n",
       "│ …       ┆ …             ┆ …         ┆ …           ┆ …             ┆ …             ┆ …            │\n",
       "│ car_999 ┆ 2023-01-07    ┆ 28.836285 ┆ -106.604029 ┆ engine_check  ┆ 2023-01-07    ┆ 1m 28s       │\n",
       "│         ┆ 23:51:41.9116 ┆           ┆             ┆               ┆ 23:53:10.4884 ┆ 576794µs     │\n",
       "│         ┆ 28            ┆           ┆             ┆               ┆ 22            ┆              │\n",
       "│ car_999 ┆ 2023-01-07    ┆ 28.836285 ┆ -106.604029 ┆ engine_check  ┆ 2023-01-07    ┆ 41s 831931µs │\n",
       "│         ┆ 23:53:10.4884 ┆           ┆             ┆               ┆ 23:53:52.3203 ┆              │\n",
       "│         ┆ 22            ┆           ┆             ┆               ┆ 53            ┆              │\n",
       "│ car_999 ┆ 2023-01-07    ┆ 28.836285 ┆ -106.604029 ┆ engine_check  ┆ 2023-01-07    ┆ 4m 3s        │\n",
       "│         ┆ 23:53:52.3203 ┆           ┆             ┆               ┆ 23:57:55.3365 ┆ 16205µs      │\n",
       "│         ┆ 53            ┆           ┆             ┆               ┆ 58            ┆              │\n",
       "│ car_999 ┆ 2023-01-07    ┆ 28.836285 ┆ -106.604029 ┆ low_fuel      ┆ 2023-01-07    ┆ 41s 283478µs │\n",
       "│         ┆ 23:57:55.3365 ┆           ┆             ┆               ┆ 23:58:36.6200 ┆              │\n",
       "│         ┆ 58            ┆           ┆             ┆               ┆ 36            ┆              │\n",
       "│ car_999 ┆ 2023-01-07    ┆ 28.836285 ┆ -106.604029 ┆ low_fuel      ┆ null          ┆ null         │\n",
       "│         ┆ 23:58:36.6200 ┆           ┆             ┆               ┆               ┆              │\n",
       "│         ┆ 36            ┆           ┆             ┆               ┆               ┆              │\n",
       "└─────────┴───────────────┴───────────┴─────────────┴───────────────┴───────────────┴──────────────┘"
      ]
     },
     "execution_count": 42,
     "metadata": {},
     "output_type": "execute_result"
    }
   ],
   "source": [
    "data.collect()"
   ]
  },
  {
   "cell_type": "markdown",
   "metadata": {},
   "source": [
    "2. Crea una nueva variable que compute la distancia que viajo el vehiculo desde la ultima notificacion. Llamala `distance`"
   ]
  },
  {
   "cell_type": "code",
   "execution_count": 43,
   "metadata": {},
   "outputs": [],
   "source": [
    "# Fórmula para calcular distancias a partir de coordenadas geográficas\n",
    "def haversine_distance(lat1, lon1, lat2, lon2):\n",
    "    if None in (lat1, lon1, lat2, lon2):\n",
    "        return None\n",
    "    lat1, lon1, lat2, lon2 = map(radians, [lat1, lon1, lat2, lon2])\n",
    "    dlon = lon2 - lon1\n",
    "    dlat = lat2 - lat1\n",
    "    a = sin(dlat / 2)**2 + cos(lat1) * cos(lat2) * sin(dlon / 2)**2\n",
    "    c = 2 * asin(sqrt(a))\n",
    "    R = 6371.0  # Radio de la Tierra en km\n",
    "    return R * c"
   ]
  },
  {
   "cell_type": "code",
   "execution_count": 44,
   "metadata": {},
   "outputs": [
    {
     "data": {
      "text/html": [
       "<div><style>\n",
       ".dataframe > thead > tr,\n",
       ".dataframe > tbody > tr {\n",
       "  text-align: right;\n",
       "  white-space: pre-wrap;\n",
       "}\n",
       "</style>\n",
       "<small>shape: (6_283_268, 9)</small><table border=\"1\" class=\"dataframe\"><thead><tr><th>car_id</th><th>timestamp</th><th>latitude</th><th>longitude</th><th>notification</th><th>lagged_timestamp</th><th>notification_time</th><th>lagged_latitude</th><th>lagged_longitude</th></tr><tr><td>str</td><td>datetime[μs]</td><td>f64</td><td>f64</td><td>str</td><td>datetime[μs]</td><td>duration[μs]</td><td>f64</td><td>f64</td></tr></thead><tbody><tr><td>&quot;car_0&quot;</td><td>2023-01-01 00:00:00</td><td>16.431368</td><td>-108.499227</td><td>null</td><td>2023-01-01 00:30:00</td><td>30m</td><td>16.431572</td><td>-108.497224</td></tr><tr><td>&quot;car_0&quot;</td><td>2023-01-01 00:30:00</td><td>16.431572</td><td>-108.497224</td><td>&quot;low_fuel&quot;</td><td>2023-01-01 00:34:18.487067</td><td>4m 18s 487067µs</td><td>16.431572</td><td>-108.497224</td></tr><tr><td>&quot;car_0&quot;</td><td>2023-01-01 00:34:18.487067</td><td>16.431572</td><td>-108.497224</td><td>&quot;tire_pressure&quot;</td><td>2023-01-01 01:00:00</td><td>25m 41s 512933µs</td><td>16.435203</td><td>-108.50384</td></tr><tr><td>&quot;car_0&quot;</td><td>2023-01-01 01:00:00</td><td>16.435203</td><td>-108.50384</td><td>null</td><td>2023-01-01 01:02:45.993100</td><td>2m 45s 993100µs</td><td>16.435203</td><td>-108.50384</td></tr><tr><td>&quot;car_0&quot;</td><td>2023-01-01 01:02:45.993100</td><td>16.435203</td><td>-108.50384</td><td>null</td><td>2023-01-01 01:30:00</td><td>27m 14s 6900µs</td><td>16.434738</td><td>-108.498603</td></tr><tr><td>&hellip;</td><td>&hellip;</td><td>&hellip;</td><td>&hellip;</td><td>&hellip;</td><td>&hellip;</td><td>&hellip;</td><td>&hellip;</td><td>&hellip;</td></tr><tr><td>&quot;car_999&quot;</td><td>2023-01-07 23:51:41.911628</td><td>28.836285</td><td>-106.604029</td><td>&quot;engine_check&quot;</td><td>2023-01-07 23:53:10.488422</td><td>1m 28s 576794µs</td><td>28.836285</td><td>-106.604029</td></tr><tr><td>&quot;car_999&quot;</td><td>2023-01-07 23:53:10.488422</td><td>28.836285</td><td>-106.604029</td><td>&quot;engine_check&quot;</td><td>2023-01-07 23:53:52.320353</td><td>41s 831931µs</td><td>28.836285</td><td>-106.604029</td></tr><tr><td>&quot;car_999&quot;</td><td>2023-01-07 23:53:52.320353</td><td>28.836285</td><td>-106.604029</td><td>&quot;engine_check&quot;</td><td>2023-01-07 23:57:55.336558</td><td>4m 3s 16205µs</td><td>28.836285</td><td>-106.604029</td></tr><tr><td>&quot;car_999&quot;</td><td>2023-01-07 23:57:55.336558</td><td>28.836285</td><td>-106.604029</td><td>&quot;low_fuel&quot;</td><td>2023-01-07 23:58:36.620036</td><td>41s 283478µs</td><td>28.836285</td><td>-106.604029</td></tr><tr><td>&quot;car_999&quot;</td><td>2023-01-07 23:58:36.620036</td><td>28.836285</td><td>-106.604029</td><td>&quot;low_fuel&quot;</td><td>null</td><td>null</td><td>null</td><td>null</td></tr></tbody></table></div>"
      ],
      "text/plain": [
       "shape: (6_283_268, 9)\n",
       "┌─────────┬────────────┬───────────┬───────────┬───┬───────────┬───────────┬───────────┬───────────┐\n",
       "│ car_id  ┆ timestamp  ┆ latitude  ┆ longitude ┆ … ┆ lagged_ti ┆ notificat ┆ lagged_la ┆ lagged_lo │\n",
       "│ ---     ┆ ---        ┆ ---       ┆ ---       ┆   ┆ mestamp   ┆ ion_time  ┆ titude    ┆ ngitude   │\n",
       "│ str     ┆ datetime[μ ┆ f64       ┆ f64       ┆   ┆ ---       ┆ ---       ┆ ---       ┆ ---       │\n",
       "│         ┆ s]         ┆           ┆           ┆   ┆ datetime[ ┆ duration[ ┆ f64       ┆ f64       │\n",
       "│         ┆            ┆           ┆           ┆   ┆ μs]       ┆ μs]       ┆           ┆           │\n",
       "╞═════════╪════════════╪═══════════╪═══════════╪═══╪═══════════╪═══════════╪═══════════╪═══════════╡\n",
       "│ car_0   ┆ 2023-01-01 ┆ 16.431368 ┆ -108.4992 ┆ … ┆ 2023-01-0 ┆ 30m       ┆ 16.431572 ┆ -108.4972 │\n",
       "│         ┆ 00:00:00   ┆           ┆ 27        ┆   ┆ 1         ┆           ┆           ┆ 24        │\n",
       "│         ┆            ┆           ┆           ┆   ┆ 00:30:00  ┆           ┆           ┆           │\n",
       "│ car_0   ┆ 2023-01-01 ┆ 16.431572 ┆ -108.4972 ┆ … ┆ 2023-01-0 ┆ 4m 18s    ┆ 16.431572 ┆ -108.4972 │\n",
       "│         ┆ 00:30:00   ┆           ┆ 24        ┆   ┆ 1 00:34:1 ┆ 487067µs  ┆           ┆ 24        │\n",
       "│         ┆            ┆           ┆           ┆   ┆ 8.487067  ┆           ┆           ┆           │\n",
       "│ car_0   ┆ 2023-01-01 ┆ 16.431572 ┆ -108.4972 ┆ … ┆ 2023-01-0 ┆ 25m 41s   ┆ 16.435203 ┆ -108.5038 │\n",
       "│         ┆ 00:34:18.4 ┆           ┆ 24        ┆   ┆ 1         ┆ 512933µs  ┆           ┆ 4         │\n",
       "│         ┆ 87067      ┆           ┆           ┆   ┆ 01:00:00  ┆           ┆           ┆           │\n",
       "│ car_0   ┆ 2023-01-01 ┆ 16.435203 ┆ -108.5038 ┆ … ┆ 2023-01-0 ┆ 2m 45s    ┆ 16.435203 ┆ -108.5038 │\n",
       "│         ┆ 01:00:00   ┆           ┆ 4         ┆   ┆ 1 01:02:4 ┆ 993100µs  ┆           ┆ 4         │\n",
       "│         ┆            ┆           ┆           ┆   ┆ 5.993100  ┆           ┆           ┆           │\n",
       "│ car_0   ┆ 2023-01-01 ┆ 16.435203 ┆ -108.5038 ┆ … ┆ 2023-01-0 ┆ 27m 14s   ┆ 16.434738 ┆ -108.4986 │\n",
       "│         ┆ 01:02:45.9 ┆           ┆ 4         ┆   ┆ 1         ┆ 6900µs    ┆           ┆ 03        │\n",
       "│         ┆ 93100      ┆           ┆           ┆   ┆ 01:30:00  ┆           ┆           ┆           │\n",
       "│ …       ┆ …          ┆ …         ┆ …         ┆ … ┆ …         ┆ …         ┆ …         ┆ …         │\n",
       "│ car_999 ┆ 2023-01-07 ┆ 28.836285 ┆ -106.6040 ┆ … ┆ 2023-01-0 ┆ 1m 28s    ┆ 28.836285 ┆ -106.6040 │\n",
       "│         ┆ 23:51:41.9 ┆           ┆ 29        ┆   ┆ 7 23:53:1 ┆ 576794µs  ┆           ┆ 29        │\n",
       "│         ┆ 11628      ┆           ┆           ┆   ┆ 0.488422  ┆           ┆           ┆           │\n",
       "│ car_999 ┆ 2023-01-07 ┆ 28.836285 ┆ -106.6040 ┆ … ┆ 2023-01-0 ┆ 41s       ┆ 28.836285 ┆ -106.6040 │\n",
       "│         ┆ 23:53:10.4 ┆           ┆ 29        ┆   ┆ 7 23:53:5 ┆ 831931µs  ┆           ┆ 29        │\n",
       "│         ┆ 88422      ┆           ┆           ┆   ┆ 2.320353  ┆           ┆           ┆           │\n",
       "│ car_999 ┆ 2023-01-07 ┆ 28.836285 ┆ -106.6040 ┆ … ┆ 2023-01-0 ┆ 4m 3s     ┆ 28.836285 ┆ -106.6040 │\n",
       "│         ┆ 23:53:52.3 ┆           ┆ 29        ┆   ┆ 7 23:57:5 ┆ 16205µs   ┆           ┆ 29        │\n",
       "│         ┆ 20353      ┆           ┆           ┆   ┆ 5.336558  ┆           ┆           ┆           │\n",
       "│ car_999 ┆ 2023-01-07 ┆ 28.836285 ┆ -106.6040 ┆ … ┆ 2023-01-0 ┆ 41s       ┆ 28.836285 ┆ -106.6040 │\n",
       "│         ┆ 23:57:55.3 ┆           ┆ 29        ┆   ┆ 7 23:58:3 ┆ 283478µs  ┆           ┆ 29        │\n",
       "│         ┆ 36558      ┆           ┆           ┆   ┆ 6.620036  ┆           ┆           ┆           │\n",
       "│ car_999 ┆ 2023-01-07 ┆ 28.836285 ┆ -106.6040 ┆ … ┆ null      ┆ null      ┆ null      ┆ null      │\n",
       "│         ┆ 23:58:36.6 ┆           ┆ 29        ┆   ┆           ┆           ┆           ┆           │\n",
       "│         ┆ 20036      ┆           ┆           ┆   ┆           ┆           ┆           ┆           │\n",
       "└─────────┴────────────┴───────────┴───────────┴───┴───────────┴───────────┴───────────┴───────────┘"
      ]
     },
     "execution_count": 44,
     "metadata": {},
     "output_type": "execute_result"
    }
   ],
   "source": [
    "df_calc_distancia = data.group_by(\"car_id\", maintain_order=True).agg(pl.all(), pl.col(\"latitude\").shift(-1).alias(\"lagged_latitude\"), pl.col(\"longitude\").shift(-1).alias(\"lagged_longitude\"))\n",
    "data_columnas= [col for col in df_calc_distancia.columns if col != 'car_id']\n",
    "df_calc_distancia = df_calc_distancia.explode(data_columnas)\n",
    "df_calc_distancia.collect()"
   ]
  },
  {
   "cell_type": "code",
   "execution_count": 45,
   "metadata": {},
   "outputs": [],
   "source": [
    "funcion_distancia = pl.when(\n",
    "    #Sólo calculamos cuando no son null, porque sino truena la función\n",
    "    pl.col(\"latitude\").is_not_null() &\n",
    "    pl.col(\"longitude\").is_not_null() &\n",
    "    pl.col(\"lagged_latitude\").is_not_null() &\n",
    "    pl.col(\"lagged_longitude\").is_not_null()\n",
    "    ).then(pl.struct([\"latitude\", \"longitude\", \"lagged_latitude\", \"lagged_longitude\"]).map_elements(\n",
    "        lambda row: haversine_distance(row[\"latitude\"],row[\"longitude\"], row[\"lagged_latitude\"], row[\"lagged_longitude\"]))\n",
    "       ).otherwise(pl.lit(None)).alias(\"distance\") #Si es el último dato de un coche, no se puede calcular la distancia, se pone null\n",
    "data_distancia = df_calc_distancia.with_columns(funcion_distancia)"
   ]
  },
  {
   "cell_type": "code",
   "execution_count": 46,
   "metadata": {},
   "outputs": [
    {
     "name": "stderr",
     "output_type": "stream",
     "text": [
      "sys:1: MapWithoutReturnDtypeWarning: Calling `map_elements` without specifying `return_dtype` can lead to unpredictable results. Specify `return_dtype` to silence this warning.\n"
     ]
    },
    {
     "data": {
      "text/html": [
       "<div><style>\n",
       ".dataframe > thead > tr,\n",
       ".dataframe > tbody > tr {\n",
       "  text-align: right;\n",
       "  white-space: pre-wrap;\n",
       "}\n",
       "</style>\n",
       "<small>shape: (6_283_268, 10)</small><table border=\"1\" class=\"dataframe\"><thead><tr><th>car_id</th><th>timestamp</th><th>latitude</th><th>longitude</th><th>notification</th><th>lagged_timestamp</th><th>notification_time</th><th>lagged_latitude</th><th>lagged_longitude</th><th>distance</th></tr><tr><td>str</td><td>datetime[μs]</td><td>f64</td><td>f64</td><td>str</td><td>datetime[μs]</td><td>duration[μs]</td><td>f64</td><td>f64</td><td>f64</td></tr></thead><tbody><tr><td>&quot;car_0&quot;</td><td>2023-01-01 00:00:00</td><td>16.431368</td><td>-108.499227</td><td>null</td><td>2023-01-01 00:30:00</td><td>30m</td><td>16.431572</td><td>-108.497224</td><td>0.2148</td></tr><tr><td>&quot;car_0&quot;</td><td>2023-01-01 00:30:00</td><td>16.431572</td><td>-108.497224</td><td>&quot;low_fuel&quot;</td><td>2023-01-01 00:34:18.487067</td><td>4m 18s 487067µs</td><td>16.431572</td><td>-108.497224</td><td>0.0</td></tr><tr><td>&quot;car_0&quot;</td><td>2023-01-01 00:34:18.487067</td><td>16.431572</td><td>-108.497224</td><td>&quot;tire_pressure&quot;</td><td>2023-01-01 01:00:00</td><td>25m 41s 512933µs</td><td>16.435203</td><td>-108.50384</td><td>0.812951</td></tr><tr><td>&quot;car_0&quot;</td><td>2023-01-01 01:00:00</td><td>16.435203</td><td>-108.50384</td><td>null</td><td>2023-01-01 01:02:45.993100</td><td>2m 45s 993100µs</td><td>16.435203</td><td>-108.50384</td><td>0.0</td></tr><tr><td>&quot;car_0&quot;</td><td>2023-01-01 01:02:45.993100</td><td>16.435203</td><td>-108.50384</td><td>null</td><td>2023-01-01 01:30:00</td><td>27m 14s 6900µs</td><td>16.434738</td><td>-108.498603</td><td>0.56094</td></tr><tr><td>&hellip;</td><td>&hellip;</td><td>&hellip;</td><td>&hellip;</td><td>&hellip;</td><td>&hellip;</td><td>&hellip;</td><td>&hellip;</td><td>&hellip;</td><td>&hellip;</td></tr><tr><td>&quot;car_999&quot;</td><td>2023-01-07 23:51:41.911628</td><td>28.836285</td><td>-106.604029</td><td>&quot;engine_check&quot;</td><td>2023-01-07 23:53:10.488422</td><td>1m 28s 576794µs</td><td>28.836285</td><td>-106.604029</td><td>0.0</td></tr><tr><td>&quot;car_999&quot;</td><td>2023-01-07 23:53:10.488422</td><td>28.836285</td><td>-106.604029</td><td>&quot;engine_check&quot;</td><td>2023-01-07 23:53:52.320353</td><td>41s 831931µs</td><td>28.836285</td><td>-106.604029</td><td>0.0</td></tr><tr><td>&quot;car_999&quot;</td><td>2023-01-07 23:53:52.320353</td><td>28.836285</td><td>-106.604029</td><td>&quot;engine_check&quot;</td><td>2023-01-07 23:57:55.336558</td><td>4m 3s 16205µs</td><td>28.836285</td><td>-106.604029</td><td>0.0</td></tr><tr><td>&quot;car_999&quot;</td><td>2023-01-07 23:57:55.336558</td><td>28.836285</td><td>-106.604029</td><td>&quot;low_fuel&quot;</td><td>2023-01-07 23:58:36.620036</td><td>41s 283478µs</td><td>28.836285</td><td>-106.604029</td><td>0.0</td></tr><tr><td>&quot;car_999&quot;</td><td>2023-01-07 23:58:36.620036</td><td>28.836285</td><td>-106.604029</td><td>&quot;low_fuel&quot;</td><td>null</td><td>null</td><td>null</td><td>null</td><td>null</td></tr></tbody></table></div>"
      ],
      "text/plain": [
       "shape: (6_283_268, 10)\n",
       "┌─────────┬────────────┬───────────┬────────────┬───┬───────────┬───────────┬───────────┬──────────┐\n",
       "│ car_id  ┆ timestamp  ┆ latitude  ┆ longitude  ┆ … ┆ notificat ┆ lagged_la ┆ lagged_lo ┆ distance │\n",
       "│ ---     ┆ ---        ┆ ---       ┆ ---        ┆   ┆ ion_time  ┆ titude    ┆ ngitude   ┆ ---      │\n",
       "│ str     ┆ datetime[μ ┆ f64       ┆ f64        ┆   ┆ ---       ┆ ---       ┆ ---       ┆ f64      │\n",
       "│         ┆ s]         ┆           ┆            ┆   ┆ duration[ ┆ f64       ┆ f64       ┆          │\n",
       "│         ┆            ┆           ┆            ┆   ┆ μs]       ┆           ┆           ┆          │\n",
       "╞═════════╪════════════╪═══════════╪════════════╪═══╪═══════════╪═══════════╪═══════════╪══════════╡\n",
       "│ car_0   ┆ 2023-01-01 ┆ 16.431368 ┆ -108.49922 ┆ … ┆ 30m       ┆ 16.431572 ┆ -108.4972 ┆ 0.2148   │\n",
       "│         ┆ 00:00:00   ┆           ┆ 7          ┆   ┆           ┆           ┆ 24        ┆          │\n",
       "│ car_0   ┆ 2023-01-01 ┆ 16.431572 ┆ -108.49722 ┆ … ┆ 4m 18s    ┆ 16.431572 ┆ -108.4972 ┆ 0.0      │\n",
       "│         ┆ 00:30:00   ┆           ┆ 4          ┆   ┆ 487067µs  ┆           ┆ 24        ┆          │\n",
       "│ car_0   ┆ 2023-01-01 ┆ 16.431572 ┆ -108.49722 ┆ … ┆ 25m 41s   ┆ 16.435203 ┆ -108.5038 ┆ 0.812951 │\n",
       "│         ┆ 00:34:18.4 ┆           ┆ 4          ┆   ┆ 512933µs  ┆           ┆ 4         ┆          │\n",
       "│         ┆ 87067      ┆           ┆            ┆   ┆           ┆           ┆           ┆          │\n",
       "│ car_0   ┆ 2023-01-01 ┆ 16.435203 ┆ -108.50384 ┆ … ┆ 2m 45s    ┆ 16.435203 ┆ -108.5038 ┆ 0.0      │\n",
       "│         ┆ 01:00:00   ┆           ┆            ┆   ┆ 993100µs  ┆           ┆ 4         ┆          │\n",
       "│ car_0   ┆ 2023-01-01 ┆ 16.435203 ┆ -108.50384 ┆ … ┆ 27m 14s   ┆ 16.434738 ┆ -108.4986 ┆ 0.56094  │\n",
       "│         ┆ 01:02:45.9 ┆           ┆            ┆   ┆ 6900µs    ┆           ┆ 03        ┆          │\n",
       "│         ┆ 93100      ┆           ┆            ┆   ┆           ┆           ┆           ┆          │\n",
       "│ …       ┆ …          ┆ …         ┆ …          ┆ … ┆ …         ┆ …         ┆ …         ┆ …        │\n",
       "│ car_999 ┆ 2023-01-07 ┆ 28.836285 ┆ -106.60402 ┆ … ┆ 1m 28s    ┆ 28.836285 ┆ -106.6040 ┆ 0.0      │\n",
       "│         ┆ 23:51:41.9 ┆           ┆ 9          ┆   ┆ 576794µs  ┆           ┆ 29        ┆          │\n",
       "│         ┆ 11628      ┆           ┆            ┆   ┆           ┆           ┆           ┆          │\n",
       "│ car_999 ┆ 2023-01-07 ┆ 28.836285 ┆ -106.60402 ┆ … ┆ 41s       ┆ 28.836285 ┆ -106.6040 ┆ 0.0      │\n",
       "│         ┆ 23:53:10.4 ┆           ┆ 9          ┆   ┆ 831931µs  ┆           ┆ 29        ┆          │\n",
       "│         ┆ 88422      ┆           ┆            ┆   ┆           ┆           ┆           ┆          │\n",
       "│ car_999 ┆ 2023-01-07 ┆ 28.836285 ┆ -106.60402 ┆ … ┆ 4m 3s     ┆ 28.836285 ┆ -106.6040 ┆ 0.0      │\n",
       "│         ┆ 23:53:52.3 ┆           ┆ 9          ┆   ┆ 16205µs   ┆           ┆ 29        ┆          │\n",
       "│         ┆ 20353      ┆           ┆            ┆   ┆           ┆           ┆           ┆          │\n",
       "│ car_999 ┆ 2023-01-07 ┆ 28.836285 ┆ -106.60402 ┆ … ┆ 41s       ┆ 28.836285 ┆ -106.6040 ┆ 0.0      │\n",
       "│         ┆ 23:57:55.3 ┆           ┆ 9          ┆   ┆ 283478µs  ┆           ┆ 29        ┆          │\n",
       "│         ┆ 36558      ┆           ┆            ┆   ┆           ┆           ┆           ┆          │\n",
       "│ car_999 ┆ 2023-01-07 ┆ 28.836285 ┆ -106.60402 ┆ … ┆ null      ┆ null      ┆ null      ┆ null     │\n",
       "│         ┆ 23:58:36.6 ┆           ┆ 9          ┆   ┆           ┆           ┆           ┆          │\n",
       "│         ┆ 20036      ┆           ┆            ┆   ┆           ┆           ┆           ┆          │\n",
       "└─────────┴────────────┴───────────┴────────────┴───┴───────────┴───────────┴───────────┴──────────┘"
      ]
     },
     "execution_count": 46,
     "metadata": {},
     "output_type": "execute_result"
    }
   ],
   "source": [
    "data_distancia.collect()"
   ]
  },
  {
   "cell_type": "markdown",
   "metadata": {},
   "source": [
    "3. Crea intervalos de `x` minutos por carro. Como el numero de notificaciones en esos intervalos no es uniforme tienes que buscar funciones de polars especificas, pero ademas tienen que ser por vehiculo, pues tienen que ser del mismo. Revisa las funciones de `group_by` `dynamic` y `rolling`.\n",
    "   1. Computa la media, mediana, varianza, max y min de `notification_time` los intervalos de `x` minutos\n",
    "   2. Computa la media, mediana, varianza, max y min de `distance`\n"
   ]
  },
  {
   "cell_type": "code",
   "execution_count": 47,
   "metadata": {},
   "outputs": [],
   "source": [
    "#Probemos cada 5 minutos\n",
    "x = 5\n",
    "\n",
    "# Usar groupby_dynamic para crear intervalos dinámicos y calcular estadísticas\n",
    "data = data.group_by_dynamic(\n",
    "    index_column=\"timestamp\",  # Columna de tiempo sobre la cual agrupar\n",
    "    group_by=\"car_id\",               # Agrupar por car_id para calcular por cada vehículo\n",
    "    every=f\"{x}m\",             # Tamaño de cada intervalo en minutos\n",
    "    period=f\"{x}m\",            # Periodo entre los intervalos\n",
    "    closed=\"both\",\n",
    "    include_boundaries=True\n",
    ").agg([\n",
    "    pl.col(\"notification_time\").mean().alias(f'media_notification_time_{x}m'),\n",
    "    pl.col(\"notification_time\").median().alias(f'mediana_notification_time_{x}m'),\n",
    "    pl.col(\"notification_time\").var().alias(f'varianza_notification_time_{x}m'),\n",
    "    pl.col(\"notification_time\").max().alias(f'max_notification_time_{x}m'),\n",
    "    pl.col(\"notification_time\").min().alias(f'min_notification_time_{x}m')\n",
    "])"
   ]
  },
  {
   "cell_type": "code",
   "execution_count": 48,
   "metadata": {},
   "outputs": [
    {
     "data": {
      "text/html": [
       "<div><style>\n",
       ".dataframe > thead > tr,\n",
       ".dataframe > tbody > tr {\n",
       "  text-align: right;\n",
       "  white-space: pre-wrap;\n",
       "}\n",
       "</style>\n",
       "<small>shape: (1_375_868, 9)</small><table border=\"1\" class=\"dataframe\"><thead><tr><th>car_id</th><th>_lower_boundary</th><th>_upper_boundary</th><th>timestamp</th><th>mean_notification_time_5m</th><th>median_notification_time_5m</th><th>variance_notification_time_5m</th><th>max_notification_time_5m</th><th>min_notification_time_5m</th></tr><tr><td>str</td><td>datetime[μs]</td><td>datetime[μs]</td><td>datetime[μs]</td><td>duration[μs]</td><td>duration[μs]</td><td>duration[μs]</td><td>duration[μs]</td><td>duration[μs]</td></tr></thead><tbody><tr><td>&quot;car_0&quot;</td><td>2022-12-31 23:55:00</td><td>2023-01-01 00:00:00</td><td>2022-12-31 23:55:00</td><td>30m</td><td>30m</td><td>null</td><td>30m</td><td>30m</td></tr><tr><td>&quot;car_0&quot;</td><td>2023-01-01 00:00:00</td><td>2023-01-01 00:05:00</td><td>2023-01-01 00:00:00</td><td>30m</td><td>30m</td><td>null</td><td>30m</td><td>30m</td></tr><tr><td>&quot;car_0&quot;</td><td>2023-01-01 00:25:00</td><td>2023-01-01 00:30:00</td><td>2023-01-01 00:25:00</td><td>4m 18s 487067µs</td><td>4m 18s 487067µs</td><td>null</td><td>4m 18s 487067µs</td><td>4m 18s 487067µs</td></tr><tr><td>&quot;car_0&quot;</td><td>2023-01-01 00:30:00</td><td>2023-01-01 00:35:00</td><td>2023-01-01 00:30:00</td><td>15m</td><td>15m</td><td>9526362d 2h 40m 12s 524928µs</td><td>25m 41s 512933µs</td><td>4m 18s 487067µs</td></tr><tr><td>&quot;car_0&quot;</td><td>2023-01-01 00:55:00</td><td>2023-01-01 01:00:00</td><td>2023-01-01 00:55:00</td><td>2m 45s 993100µs</td><td>2m 45s 993100µs</td><td>null</td><td>2m 45s 993100µs</td><td>2m 45s 993100µs</td></tr><tr><td>&hellip;</td><td>&hellip;</td><td>&hellip;</td><td>&hellip;</td><td>&hellip;</td><td>&hellip;</td><td>&hellip;</td><td>&hellip;</td><td>&hellip;</td></tr><tr><td>&quot;car_999&quot;</td><td>2023-01-07 23:35:00</td><td>2023-01-07 23:40:00</td><td>2023-01-07 23:35:00</td><td>2m 53s 278351µs</td><td>2m 53s 278351µs</td><td>303157d 21h 8m 12s 11296µs</td><td>4m 47s 717944µs</td><td>58s 838758µs</td></tr><tr><td>&quot;car_999&quot;</td><td>2023-01-07 23:40:00</td><td>2023-01-07 23:45:00</td><td>2023-01-07 23:40:00</td><td>1m 42s 990379µs</td><td>1m 26s 247339µs</td><td>129404d 22h 41m 34s 603904µs</td><td>3m 36s 101292µs</td><td>6s 622508µs</td></tr><tr><td>&quot;car_999&quot;</td><td>2023-01-07 23:45:00</td><td>2023-01-07 23:50:00</td><td>2023-01-07 23:45:00</td><td>1m 58s 107582µs</td><td>1m 58s 107582µs</td><td>12117d 6h 20m 46s 540ms</td><td>2m 20s 986958µs</td><td>1m 35s 228207µs</td></tr><tr><td>&quot;car_999&quot;</td><td>2023-01-07 23:50:00</td><td>2023-01-07 23:55:00</td><td>2023-01-07 23:50:00</td><td>2m 4s 474976µs</td><td>1m 28s 576794µs</td><td>128301d 22h 34m 25s 303794µs</td><td>4m 3s 16205µs</td><td>41s 831931µs</td></tr><tr><td>&quot;car_999&quot;</td><td>2023-01-07 23:55:00</td><td>2023-01-08 00:00:00</td><td>2023-01-07 23:55:00</td><td>41s 283478µs</td><td>41s 283478µs</td><td>null</td><td>41s 283478µs</td><td>41s 283478µs</td></tr></tbody></table></div>"
      ],
      "text/plain": [
       "shape: (1_375_868, 9)\n",
       "┌─────────┬────────────┬───────────┬───────────┬───┬───────────┬───────────┬───────────┬───────────┐\n",
       "│ car_id  ┆ _lower_bou ┆ _upper_bo ┆ timestamp ┆ … ┆ median_no ┆ variance_ ┆ max_notif ┆ min_notif │\n",
       "│ ---     ┆ ndary      ┆ undary    ┆ ---       ┆   ┆ tificatio ┆ notificat ┆ ication_t ┆ ication_t │\n",
       "│ str     ┆ ---        ┆ ---       ┆ datetime[ ┆   ┆ n_time_5m ┆ ion_time_ ┆ ime_5m    ┆ ime_5m    │\n",
       "│         ┆ datetime[μ ┆ datetime[ ┆ μs]       ┆   ┆ ---       ┆ 5m        ┆ ---       ┆ ---       │\n",
       "│         ┆ s]         ┆ μs]       ┆           ┆   ┆ duration[ ┆ ---       ┆ duration[ ┆ duration[ │\n",
       "│         ┆            ┆           ┆           ┆   ┆ μs]       ┆ duration[ ┆ μs]       ┆ μs]       │\n",
       "│         ┆            ┆           ┆           ┆   ┆           ┆ μs]       ┆           ┆           │\n",
       "╞═════════╪════════════╪═══════════╪═══════════╪═══╪═══════════╪═══════════╪═══════════╪═══════════╡\n",
       "│ car_0   ┆ 2022-12-31 ┆ 2023-01-0 ┆ 2022-12-3 ┆ … ┆ 30m       ┆ null      ┆ 30m       ┆ 30m       │\n",
       "│         ┆ 23:55:00   ┆ 1         ┆ 1         ┆   ┆           ┆           ┆           ┆           │\n",
       "│         ┆            ┆ 00:00:00  ┆ 23:55:00  ┆   ┆           ┆           ┆           ┆           │\n",
       "│ car_0   ┆ 2023-01-01 ┆ 2023-01-0 ┆ 2023-01-0 ┆ … ┆ 30m       ┆ null      ┆ 30m       ┆ 30m       │\n",
       "│         ┆ 00:00:00   ┆ 1         ┆ 1         ┆   ┆           ┆           ┆           ┆           │\n",
       "│         ┆            ┆ 00:05:00  ┆ 00:00:00  ┆   ┆           ┆           ┆           ┆           │\n",
       "│ car_0   ┆ 2023-01-01 ┆ 2023-01-0 ┆ 2023-01-0 ┆ … ┆ 4m 18s    ┆ null      ┆ 4m 18s    ┆ 4m 18s    │\n",
       "│         ┆ 00:25:00   ┆ 1         ┆ 1         ┆   ┆ 487067µs  ┆           ┆ 487067µs  ┆ 487067µs  │\n",
       "│         ┆            ┆ 00:30:00  ┆ 00:25:00  ┆   ┆           ┆           ┆           ┆           │\n",
       "│ car_0   ┆ 2023-01-01 ┆ 2023-01-0 ┆ 2023-01-0 ┆ … ┆ 15m       ┆ 9526362d  ┆ 25m 41s   ┆ 4m 18s    │\n",
       "│         ┆ 00:30:00   ┆ 1         ┆ 1         ┆   ┆           ┆ 2h 40m    ┆ 512933µs  ┆ 487067µs  │\n",
       "│         ┆            ┆ 00:35:00  ┆ 00:30:00  ┆   ┆           ┆ 12s       ┆           ┆           │\n",
       "│         ┆            ┆           ┆           ┆   ┆           ┆ 524928µs  ┆           ┆           │\n",
       "│ car_0   ┆ 2023-01-01 ┆ 2023-01-0 ┆ 2023-01-0 ┆ … ┆ 2m 45s    ┆ null      ┆ 2m 45s    ┆ 2m 45s    │\n",
       "│         ┆ 00:55:00   ┆ 1         ┆ 1         ┆   ┆ 993100µs  ┆           ┆ 993100µs  ┆ 993100µs  │\n",
       "│         ┆            ┆ 01:00:00  ┆ 00:55:00  ┆   ┆           ┆           ┆           ┆           │\n",
       "│ …       ┆ …          ┆ …         ┆ …         ┆ … ┆ …         ┆ …         ┆ …         ┆ …         │\n",
       "│ car_999 ┆ 2023-01-07 ┆ 2023-01-0 ┆ 2023-01-0 ┆ … ┆ 2m 53s    ┆ 303157d   ┆ 4m 47s    ┆ 58s       │\n",
       "│         ┆ 23:35:00   ┆ 7         ┆ 7         ┆   ┆ 278351µs  ┆ 21h 8m    ┆ 717944µs  ┆ 838758µs  │\n",
       "│         ┆            ┆ 23:40:00  ┆ 23:35:00  ┆   ┆           ┆ 12s       ┆           ┆           │\n",
       "│         ┆            ┆           ┆           ┆   ┆           ┆ 11296µs   ┆           ┆           │\n",
       "│ car_999 ┆ 2023-01-07 ┆ 2023-01-0 ┆ 2023-01-0 ┆ … ┆ 1m 26s    ┆ 129404d   ┆ 3m 36s    ┆ 6s        │\n",
       "│         ┆ 23:40:00   ┆ 7         ┆ 7         ┆   ┆ 247339µs  ┆ 22h 41m   ┆ 101292µs  ┆ 622508µs  │\n",
       "│         ┆            ┆ 23:45:00  ┆ 23:40:00  ┆   ┆           ┆ 34s       ┆           ┆           │\n",
       "│         ┆            ┆           ┆           ┆   ┆           ┆ 603904µs  ┆           ┆           │\n",
       "│ car_999 ┆ 2023-01-07 ┆ 2023-01-0 ┆ 2023-01-0 ┆ … ┆ 1m 58s    ┆ 12117d 6h ┆ 2m 20s    ┆ 1m 35s    │\n",
       "│         ┆ 23:45:00   ┆ 7         ┆ 7         ┆   ┆ 107582µs  ┆ 20m 46s   ┆ 986958µs  ┆ 228207µs  │\n",
       "│         ┆            ┆ 23:50:00  ┆ 23:45:00  ┆   ┆           ┆ 540ms     ┆           ┆           │\n",
       "│ car_999 ┆ 2023-01-07 ┆ 2023-01-0 ┆ 2023-01-0 ┆ … ┆ 1m 28s    ┆ 128301d   ┆ 4m 3s     ┆ 41s       │\n",
       "│         ┆ 23:50:00   ┆ 7         ┆ 7         ┆   ┆ 576794µs  ┆ 22h 34m   ┆ 16205µs   ┆ 831931µs  │\n",
       "│         ┆            ┆ 23:55:00  ┆ 23:50:00  ┆   ┆           ┆ 25s       ┆           ┆           │\n",
       "│         ┆            ┆           ┆           ┆   ┆           ┆ 303794µs  ┆           ┆           │\n",
       "│ car_999 ┆ 2023-01-07 ┆ 2023-01-0 ┆ 2023-01-0 ┆ … ┆ 41s       ┆ null      ┆ 41s       ┆ 41s       │\n",
       "│         ┆ 23:55:00   ┆ 8         ┆ 7         ┆   ┆ 283478µs  ┆           ┆ 283478µs  ┆ 283478µs  │\n",
       "│         ┆            ┆ 00:00:00  ┆ 23:55:00  ┆   ┆           ┆           ┆           ┆           │\n",
       "└─────────┴────────────┴───────────┴───────────┴───┴───────────┴───────────┴───────────┴───────────┘"
      ]
     },
     "execution_count": 48,
     "metadata": {},
     "output_type": "execute_result"
    }
   ],
   "source": [
    "data.collect()"
   ]
  },
  {
   "cell_type": "code",
   "execution_count": 49,
   "metadata": {},
   "outputs": [],
   "source": [
    "t=5\n",
    "data_distancia = data_distancia.group_by_dynamic(\n",
    "    index_column=\"timestamp\",  # Columna de tiempo sobre la cual agrupar\n",
    "    group_by=\"car_id\",               # Agrupar por car_id para calcular por cada vehículo\n",
    "    every=f\"{t}m\",             # Tamaño de cada intervalo en minutos\n",
    "    period=f\"{t}m\",            # Periodo entre los intervalos\n",
    "    closed=\"both\",\n",
    "    include_boundaries=True\n",
    ").agg([\n",
    "    pl.col(\"distance\").mean().alias(f'media_distance_{t}m'),\n",
    "    pl.col(\"distance\").median().alias(f'mediana_distance_{t}m'),\n",
    "    pl.col(\"distance\").var().alias(f'varianza_distance_{t}m'),\n",
    "    pl.col(\"distance\").max().alias(f'max_distance_{t}m'),\n",
    "    pl.col(\"distance\").min().alias(f'min_distance_{t}m')\n",
    "])"
   ]
  },
  {
   "cell_type": "code",
   "execution_count": 50,
   "metadata": {},
   "outputs": [
    {
     "name": "stderr",
     "output_type": "stream",
     "text": [
      "sys:1: MapWithoutReturnDtypeWarning: Calling `map_elements` without specifying `return_dtype` can lead to unpredictable results. Specify `return_dtype` to silence this warning.\n"
     ]
    },
    {
     "data": {
      "text/html": [
       "<div><style>\n",
       ".dataframe > thead > tr,\n",
       ".dataframe > tbody > tr {\n",
       "  text-align: right;\n",
       "  white-space: pre-wrap;\n",
       "}\n",
       "</style>\n",
       "<small>shape: (1_375_868, 9)</small><table border=\"1\" class=\"dataframe\"><thead><tr><th>car_id</th><th>_lower_boundary</th><th>_upper_boundary</th><th>timestamp</th><th>media_distance_5m</th><th>mediana_distance_5m</th><th>varianza_distance_5m</th><th>max_distance_5m</th><th>min_distance_5m</th></tr><tr><td>str</td><td>datetime[μs]</td><td>datetime[μs]</td><td>datetime[μs]</td><td>f64</td><td>f64</td><td>f64</td><td>f64</td><td>f64</td></tr></thead><tbody><tr><td>&quot;car_0&quot;</td><td>2022-12-31 23:55:00</td><td>2023-01-01 00:00:00</td><td>2022-12-31 23:55:00</td><td>0.2148</td><td>0.2148</td><td>null</td><td>0.2148</td><td>0.2148</td></tr><tr><td>&quot;car_0&quot;</td><td>2023-01-01 00:00:00</td><td>2023-01-01 00:05:00</td><td>2023-01-01 00:00:00</td><td>0.2148</td><td>0.2148</td><td>null</td><td>0.2148</td><td>0.2148</td></tr><tr><td>&quot;car_0&quot;</td><td>2023-01-01 00:25:00</td><td>2023-01-01 00:30:00</td><td>2023-01-01 00:25:00</td><td>0.0</td><td>0.0</td><td>null</td><td>0.0</td><td>0.0</td></tr><tr><td>&quot;car_0&quot;</td><td>2023-01-01 00:30:00</td><td>2023-01-01 00:35:00</td><td>2023-01-01 00:30:00</td><td>0.406475</td><td>0.406475</td><td>0.330444</td><td>0.812951</td><td>0.0</td></tr><tr><td>&quot;car_0&quot;</td><td>2023-01-01 00:55:00</td><td>2023-01-01 01:00:00</td><td>2023-01-01 00:55:00</td><td>0.0</td><td>0.0</td><td>null</td><td>0.0</td><td>0.0</td></tr><tr><td>&hellip;</td><td>&hellip;</td><td>&hellip;</td><td>&hellip;</td><td>&hellip;</td><td>&hellip;</td><td>&hellip;</td><td>&hellip;</td><td>&hellip;</td></tr><tr><td>&quot;car_999&quot;</td><td>2023-01-07 23:35:00</td><td>2023-01-07 23:40:00</td><td>2023-01-07 23:35:00</td><td>0.0</td><td>0.0</td><td>0.0</td><td>0.0</td><td>0.0</td></tr><tr><td>&quot;car_999&quot;</td><td>2023-01-07 23:40:00</td><td>2023-01-07 23:45:00</td><td>2023-01-07 23:40:00</td><td>0.0</td><td>0.0</td><td>0.0</td><td>0.0</td><td>0.0</td></tr><tr><td>&quot;car_999&quot;</td><td>2023-01-07 23:45:00</td><td>2023-01-07 23:50:00</td><td>2023-01-07 23:45:00</td><td>0.0</td><td>0.0</td><td>0.0</td><td>0.0</td><td>0.0</td></tr><tr><td>&quot;car_999&quot;</td><td>2023-01-07 23:50:00</td><td>2023-01-07 23:55:00</td><td>2023-01-07 23:50:00</td><td>0.0</td><td>0.0</td><td>0.0</td><td>0.0</td><td>0.0</td></tr><tr><td>&quot;car_999&quot;</td><td>2023-01-07 23:55:00</td><td>2023-01-08 00:00:00</td><td>2023-01-07 23:55:00</td><td>0.0</td><td>0.0</td><td>null</td><td>0.0</td><td>0.0</td></tr></tbody></table></div>"
      ],
      "text/plain": [
       "shape: (1_375_868, 9)\n",
       "┌─────────┬────────────┬───────────┬───────────┬───┬───────────┬───────────┬───────────┬───────────┐\n",
       "│ car_id  ┆ _lower_bou ┆ _upper_bo ┆ timestamp ┆ … ┆ mediana_d ┆ varianza_ ┆ max_dista ┆ min_dista │\n",
       "│ ---     ┆ ndary      ┆ undary    ┆ ---       ┆   ┆ istance_5 ┆ distance_ ┆ nce_5m    ┆ nce_5m    │\n",
       "│ str     ┆ ---        ┆ ---       ┆ datetime[ ┆   ┆ m         ┆ 5m        ┆ ---       ┆ ---       │\n",
       "│         ┆ datetime[μ ┆ datetime[ ┆ μs]       ┆   ┆ ---       ┆ ---       ┆ f64       ┆ f64       │\n",
       "│         ┆ s]         ┆ μs]       ┆           ┆   ┆ f64       ┆ f64       ┆           ┆           │\n",
       "╞═════════╪════════════╪═══════════╪═══════════╪═══╪═══════════╪═══════════╪═══════════╪═══════════╡\n",
       "│ car_0   ┆ 2022-12-31 ┆ 2023-01-0 ┆ 2022-12-3 ┆ … ┆ 0.2148    ┆ null      ┆ 0.2148    ┆ 0.2148    │\n",
       "│         ┆ 23:55:00   ┆ 1         ┆ 1         ┆   ┆           ┆           ┆           ┆           │\n",
       "│         ┆            ┆ 00:00:00  ┆ 23:55:00  ┆   ┆           ┆           ┆           ┆           │\n",
       "│ car_0   ┆ 2023-01-01 ┆ 2023-01-0 ┆ 2023-01-0 ┆ … ┆ 0.2148    ┆ null      ┆ 0.2148    ┆ 0.2148    │\n",
       "│         ┆ 00:00:00   ┆ 1         ┆ 1         ┆   ┆           ┆           ┆           ┆           │\n",
       "│         ┆            ┆ 00:05:00  ┆ 00:00:00  ┆   ┆           ┆           ┆           ┆           │\n",
       "│ car_0   ┆ 2023-01-01 ┆ 2023-01-0 ┆ 2023-01-0 ┆ … ┆ 0.0       ┆ null      ┆ 0.0       ┆ 0.0       │\n",
       "│         ┆ 00:25:00   ┆ 1         ┆ 1         ┆   ┆           ┆           ┆           ┆           │\n",
       "│         ┆            ┆ 00:30:00  ┆ 00:25:00  ┆   ┆           ┆           ┆           ┆           │\n",
       "│ car_0   ┆ 2023-01-01 ┆ 2023-01-0 ┆ 2023-01-0 ┆ … ┆ 0.406475  ┆ 0.330444  ┆ 0.812951  ┆ 0.0       │\n",
       "│         ┆ 00:30:00   ┆ 1         ┆ 1         ┆   ┆           ┆           ┆           ┆           │\n",
       "│         ┆            ┆ 00:35:00  ┆ 00:30:00  ┆   ┆           ┆           ┆           ┆           │\n",
       "│ car_0   ┆ 2023-01-01 ┆ 2023-01-0 ┆ 2023-01-0 ┆ … ┆ 0.0       ┆ null      ┆ 0.0       ┆ 0.0       │\n",
       "│         ┆ 00:55:00   ┆ 1         ┆ 1         ┆   ┆           ┆           ┆           ┆           │\n",
       "│         ┆            ┆ 01:00:00  ┆ 00:55:00  ┆   ┆           ┆           ┆           ┆           │\n",
       "│ …       ┆ …          ┆ …         ┆ …         ┆ … ┆ …         ┆ …         ┆ …         ┆ …         │\n",
       "│ car_999 ┆ 2023-01-07 ┆ 2023-01-0 ┆ 2023-01-0 ┆ … ┆ 0.0       ┆ 0.0       ┆ 0.0       ┆ 0.0       │\n",
       "│         ┆ 23:35:00   ┆ 7         ┆ 7         ┆   ┆           ┆           ┆           ┆           │\n",
       "│         ┆            ┆ 23:40:00  ┆ 23:35:00  ┆   ┆           ┆           ┆           ┆           │\n",
       "│ car_999 ┆ 2023-01-07 ┆ 2023-01-0 ┆ 2023-01-0 ┆ … ┆ 0.0       ┆ 0.0       ┆ 0.0       ┆ 0.0       │\n",
       "│         ┆ 23:40:00   ┆ 7         ┆ 7         ┆   ┆           ┆           ┆           ┆           │\n",
       "│         ┆            ┆ 23:45:00  ┆ 23:40:00  ┆   ┆           ┆           ┆           ┆           │\n",
       "│ car_999 ┆ 2023-01-07 ┆ 2023-01-0 ┆ 2023-01-0 ┆ … ┆ 0.0       ┆ 0.0       ┆ 0.0       ┆ 0.0       │\n",
       "│         ┆ 23:45:00   ┆ 7         ┆ 7         ┆   ┆           ┆           ┆           ┆           │\n",
       "│         ┆            ┆ 23:50:00  ┆ 23:45:00  ┆   ┆           ┆           ┆           ┆           │\n",
       "│ car_999 ┆ 2023-01-07 ┆ 2023-01-0 ┆ 2023-01-0 ┆ … ┆ 0.0       ┆ 0.0       ┆ 0.0       ┆ 0.0       │\n",
       "│         ┆ 23:50:00   ┆ 7         ┆ 7         ┆   ┆           ┆           ┆           ┆           │\n",
       "│         ┆            ┆ 23:55:00  ┆ 23:50:00  ┆   ┆           ┆           ┆           ┆           │\n",
       "│ car_999 ┆ 2023-01-07 ┆ 2023-01-0 ┆ 2023-01-0 ┆ … ┆ 0.0       ┆ null      ┆ 0.0       ┆ 0.0       │\n",
       "│         ┆ 23:55:00   ┆ 8         ┆ 7         ┆   ┆           ┆           ┆           ┆           │\n",
       "│         ┆            ┆ 00:00:00  ┆ 23:55:00  ┆   ┆           ┆           ┆           ┆           │\n",
       "└─────────┴────────────┴───────────┴───────────┴───┴───────────┴───────────┴───────────┴───────────┘"
      ]
     },
     "execution_count": 50,
     "metadata": {},
     "output_type": "execute_result"
    }
   ],
   "source": [
    "data_distancia.collect()"
   ]
  }
 ],
 "metadata": {
  "kernelspec": {
   "display_name": "itam",
   "language": "python",
   "name": "python3"
  },
  "language_info": {
   "codemirror_mode": {
    "name": "ipython",
    "version": 3
   },
   "file_extension": ".py",
   "mimetype": "text/x-python",
   "name": "python",
   "nbconvert_exporter": "python",
   "pygments_lexer": "ipython3",
   "version": "3.11.5"
  }
 },
 "nbformat": 4,
 "nbformat_minor": 2
}
